{
 "cells": [
  {
   "cell_type": "markdown",
   "id": "b45a60ad-1729-4183-9bbd-d79c899b8d0e",
   "metadata": {},
   "source": [
    "## Extract Goal Graph from Python Code\n",
    "\n",
    "This notebook extracts the goal graph from the generated python code."
   ]
  },
  {
   "cell_type": "code",
   "execution_count": 1,
   "id": "05cc6cf3-f06e-4dad-bcd3-f3df58bc9054",
   "metadata": {},
   "outputs": [],
   "source": [
    "import json\n",
    "\n",
    "data_path = 'data1'\n",
    "\n",
    "results = json.load(open('%s/models.json' % data_path, 'r'))"
   ]
  },
  {
   "cell_type": "code",
   "execution_count": 2,
   "id": "4bd8f273-5359-4b03-92cd-dc6cd61fa901",
   "metadata": {},
   "outputs": [],
   "source": [
    "import networkx as nx\n",
    "\n",
    "# convert local symbol table to goal graph\n",
    "def get_graph(l):\n",
    "    # reverse lookup from object to variable name\n",
    "    rev = {o.text:v for v, o in l.items() if type(o).__name__ == 'Goal'}\n",
    "\n",
    "\n",
    "    # variable name pairs in refined_by relation\n",
    "    missing = []\n",
    "    edges = []\n",
    "    for v1, o1 in l.items():\n",
    "        if type(o1).__name__ != 'Goal':\n",
    "            continue\n",
    "        for o2 in o1.is_refined_by: #is_why_we_satisfy_the_goal\n",
    "            if o2.text in rev:\n",
    "                edges.append((v1, rev[o2.text]))\n",
    "            else:\n",
    "                print('Missing obj for: %s' % o2.text)\n",
    "                missing.append(o2.text)\n",
    "    \n",
    "    return edges, {v:t for t,v in rev.items()}\n",
    "\n",
    "def get_implied_goals(l):\n",
    "    if not 'implied_goals' in l:\n",
    "        return []\n",
    "        \n",
    "    implied = [v for v, o in l.items() if type(o).__name__ == 'Goal' and o in l['implied_goals']]\n",
    "    return implied\n",
    "\n",
    "def get_cycles(edges):\n",
    "    g = nx.DiGraph(edges)\n",
    "    return [c for c in nx.simple_cycles(g)]"
   ]
  },
  {
   "cell_type": "code",
   "execution_count": 3,
   "id": "059a017d-2fac-414b-a808-0c5818b3a406",
   "metadata": {},
   "outputs": [],
   "source": [
    "graphs = {}\n",
    "for i in results.keys():\n",
    "    graphs[i] = []\n",
    "    \n",
    "    for j in range(len(results[i])):\n",
    "        # retrieve program and compute goal graph\n",
    "        p, r, program = results[i][j]['pass']\n",
    "        local = {}\n",
    "        exec('\\n'.join(program), {}, local)\n",
    "        edges, nodes = get_graph(local)\n",
    "\n",
    "        # remove implied edges, which yield false positives\n",
    "        implied = get_implied_goals(local)\n",
    "        graphs[i].append([nodes, edges, implied])"
   ]
  },
  {
   "cell_type": "code",
   "execution_count": 4,
   "id": "ad40df7a-b712-4bba-9d19-db7e8caaf9a2",
   "metadata": {},
   "outputs": [],
   "source": [
    "json.dump(graphs, open('%s/graphs.json' % data_path, 'w+'))"
   ]
  },
  {
   "cell_type": "code",
   "execution_count": null,
   "id": "892a3f06-ce79-4134-9bc6-c6a3d98dab1e",
   "metadata": {},
   "outputs": [],
   "source": []
  },
  {
   "cell_type": "code",
   "execution_count": null,
   "id": "5d49e54d-3542-4286-af85-e841b2557619",
   "metadata": {},
   "outputs": [],
   "source": []
  }
 ],
 "metadata": {
  "kernelspec": {
   "display_name": "Python 3 (ipykernel)",
   "language": "python",
   "name": "python3"
  },
  "language_info": {
   "codemirror_mode": {
    "name": "ipython",
    "version": 3
   },
   "file_extension": ".py",
   "mimetype": "text/x-python",
   "name": "python",
   "nbconvert_exporter": "python",
   "pygments_lexer": "ipython3",
   "version": "3.11.11"
  }
 },
 "nbformat": 4,
 "nbformat_minor": 5
}
