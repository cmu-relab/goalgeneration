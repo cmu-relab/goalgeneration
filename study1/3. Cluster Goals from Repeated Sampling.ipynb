{
 "cells": [
  {
   "cell_type": "markdown",
   "id": "0a5e11c2-d67f-4fcb-9f41-345813568155",
   "metadata": {},
   "source": [
    "## Cluster Goals from Repeated Sampling\n",
    "\n",
    "This notebook clusters the goals acquired from repeated sampling of the goal extraction task. Clustering allows for the consolidation of duplicate goals into the same cluster, which can then be sampled to reduce redundancy."
   ]
  },
  {
   "cell_type": "code",
   "execution_count": 1,
   "id": "e64675c2-3ca9-45ab-ac84-5dc65c7963ff",
   "metadata": {},
   "outputs": [],
   "source": [
    "import json\n",
    "\n",
    "data_path = 'data1'\n",
    "\n",
    "goals = json.load(open('%s/extracted-goals.json' % data_path, 'r'))"
   ]
  },
  {
   "cell_type": "code",
   "execution_count": 2,
   "id": "37ecdc0e-d9f1-43e9-b0a0-915592fab439",
   "metadata": {},
   "outputs": [
    {
     "name": "stdout",
     "output_type": "stream",
     "text": [
      "Unique goals in 32: 73\n",
      "Unique goals in 35: 84\n",
      "Unique goals in 34: 52\n",
      "Unique goals in 33: 113\n",
      "Unique goals in 20: 73\n",
      "Unique goals in 18: 60\n",
      "Unique goals in 27: 119\n",
      "Unique goals in 9: 69\n",
      "Unique goals in 11: 108\n",
      "Unique goals in 7: 62\n",
      "Unique goals in 29: 71\n",
      "Unique goals in 16: 137\n",
      "Unique goals in 6: 40\n",
      "Unique goals in 28: 107\n",
      "Unique goals in 17: 116\n",
      "Unique goals in 10: 60\n",
      "Unique goals in 19: 92\n",
      "Unique goals in 26: 60\n",
      "Unique goals in 8: 33\n",
      "Unique goals in 21: 123\n",
      "Unique goals in 36: 74\n",
      "Unique goals in 31: 46\n",
      "Unique goals in 30: 86\n",
      "Unique goals in 24: 52\n",
      "Unique goals in 23: 29\n",
      "Unique goals in 4: 85\n",
      "Unique goals in 15: 130\n",
      "Unique goals in 3: 232\n",
      "Unique goals in 12: 111\n",
      "Unique goals in 13: 96\n",
      "Unique goals in 5: 51\n",
      "Unique goals in 14: 83\n",
      "Unique goals in 22: 190\n",
      "Unique goals in 25: 50\n"
     ]
    }
   ],
   "source": [
    "for i in goals.keys():\n",
    "    unique = set()\n",
    "    for j in range(len(goals[i])):\n",
    "        unique.update(goals[i][j])\n",
    "    print('Unique goals in %s: %i' % (i, len(unique)))"
   ]
  },
  {
   "cell_type": "markdown",
   "id": "75da257c-f43a-4758-9038-419903d38816",
   "metadata": {},
   "source": [
    "## Define clustering functions"
   ]
  },
  {
   "cell_type": "code",
   "execution_count": 3,
   "id": "8b6edd9c-f7ac-475a-8be8-4967a58f9246",
   "metadata": {},
   "outputs": [
    {
     "data": {
      "application/vnd.jupyter.widget-view+json": {
       "model_id": "3d89e56ddc0e494daa1bd7f1c8a7dae7",
       "version_major": 2,
       "version_minor": 0
      },
      "text/plain": [
       "README.md:   0%|          | 0.00/3.51k [00:00<?, ?B/s]"
      ]
     },
     "metadata": {},
     "output_type": "display_data"
    }
   ],
   "source": [
    "from sentence_transformers import SentenceTransformer\n",
    "from sklearn.cluster import AgglomerativeClustering\n",
    "import numpy as np\n",
    "\n",
    "embedder = SentenceTransformer('paraphrase-MiniLM-L6-v2')\n",
    "\n",
    "def cluster(corpus):\n",
    "    # normalize the embeddings to unit vectors\n",
    "    embeddings = embedder.encode(corpus)\n",
    "    embeddings = embeddings /  np.linalg.norm(embeddings, axis=1, keepdims=True)\n",
    "    \n",
    "    # cluster\n",
    "    model = AgglomerativeClustering(n_clusters=None, distance_threshold=1.5)\n",
    "    model.fit(embeddings)\n",
    "    \n",
    "    clustered = {}\n",
    "    for sentence_id, cluster_id in enumerate(model.labels_):\n",
    "        if cluster_id not in clustered:\n",
    "            clustered[cluster_id] = []\n",
    "        clustered[cluster_id].append(corpus[sentence_id])\n",
    "    return clustered\n",
    "\n",
    "def print_cluster(clustered):   \n",
    "    for i, cluster in clustered.items():\n",
    "        print(\"Cluster \", i + 1)\n",
    "        print(cluster)\n",
    "        print(\"\")\n",
    "\n",
    "def find_cluster(item, clustered):\n",
    "    for i, c in clustered.items():\n",
    "        if item in c:\n",
    "            return i, c\n",
    "    return -1, None\n",
    "\n",
    "def compute_change(cluster0, cluster1):\n",
    "    set0 = set(cluster0)\n",
    "    set1 = set(cluster1)\n",
    "    gain = len(set1 - set0) / len(set1)\n",
    "    loss = len(set0 - set1) / len(set0)\n",
    "    return gain, loss"
   ]
  },
  {
   "cell_type": "code",
   "execution_count": 4,
   "id": "181aa902-85e2-4bf3-a709-61e5c06d61cf",
   "metadata": {},
   "outputs": [
    {
     "data": {
      "application/vnd.jupyter.widget-view+json": {
       "model_id": "cc78906c0c7c4eba92c2e48c936dbded",
       "version_major": 2,
       "version_minor": 0
      },
      "text/plain": [
       "README.md:   0%|          | 0.00/10.5k [00:00<?, ?B/s]"
      ]
     },
     "metadata": {},
     "output_type": "display_data"
    }
   ],
   "source": [
    "from sentence_transformers import SentenceTransformer, util\n",
    "\n",
    "model = SentenceTransformer('sentence-transformers/all-MiniLM-L6-v2')\n",
    "\n",
    "def compare(g1, g2):\n",
    "    e1 = model.encode(g1, convert_to_tensor=True)\n",
    "    e2 = model.encode(g2, convert_to_tensor=True)\n",
    "    t = util.pytorch_cos_sim(e1, e2)\n",
    "    return float(t.mean())\n",
    "\n",
    "def is_similar(g1, g_list, min_distance=0.7):\n",
    "    similar = []\n",
    "    for g2 in g_list:\n",
    "        if compare(g1, g2) >= min_distance:\n",
    "            similar.append(g2)\n",
    "    return similar\n",
    "\n",
    "def sub_cluster(cluster, min_distance=0.7):\n",
    "    subs = [list([cluster[0]])]\n",
    "    for i in range(1, len(cluster)):\n",
    "        p = cluster[i]\n",
    "        matched = False\n",
    "        for j in range(len(subs)):\n",
    "            for q in subs[j]:\n",
    "                if compare(p, q) >= min_distance:\n",
    "                    if not p in subs[j]:\n",
    "                        subs[j].append(p)\n",
    "                    matched = True\n",
    "                    break\n",
    "            if matched:\n",
    "                break\n",
    "        if not matched:\n",
    "            subs.append([p])\n",
    "    return subs"
   ]
  },
  {
   "cell_type": "code",
   "execution_count": 5,
   "id": "ef018c1d-d9d4-4f94-8b50-1472d12df0e6",
   "metadata": {},
   "outputs": [
    {
     "name": "stdout",
     "output_type": "stream",
     "text": [
      "Generating cluster for goals 32\n",
      "Generating cluster for goals 35\n",
      "Generating cluster for goals 34\n",
      "Generating cluster for goals 33\n",
      "Generating cluster for goals 20\n",
      "Generating cluster for goals 18\n",
      "Generating cluster for goals 27\n",
      "Generating cluster for goals 9\n",
      "Generating cluster for goals 11\n",
      "Generating cluster for goals 7\n",
      "Generating cluster for goals 29\n",
      "Generating cluster for goals 16\n",
      "Generating cluster for goals 6\n",
      "Generating cluster for goals 28\n",
      "Generating cluster for goals 17\n",
      "Generating cluster for goals 10\n",
      "Generating cluster for goals 19\n",
      "Generating cluster for goals 26\n",
      "Generating cluster for goals 8\n",
      "Generating cluster for goals 21\n",
      "Generating cluster for goals 36\n",
      "Generating cluster for goals 31\n",
      "Generating cluster for goals 30\n",
      "Generating cluster for goals 24\n",
      "Generating cluster for goals 23\n",
      "Generating cluster for goals 4\n",
      "Generating cluster for goals 15\n",
      "Generating cluster for goals 3\n",
      "Generating cluster for goals 12\n",
      "Generating cluster for goals 13\n",
      "Generating cluster for goals 5\n",
      "Generating cluster for goals 14\n",
      "Generating cluster for goals 22\n",
      "Generating cluster for goals 25\n"
     ]
    }
   ],
   "source": [
    "import random\n",
    "\n",
    "sampled = {}\n",
    "for i in goals.keys():\n",
    "    print('Generating cluster for goals %s' % i)\n",
    "\n",
    "    corpus = []\n",
    "    for j in range(len(goals[i])):\n",
    "        corpus.extend(goals[i][j])\n",
    "\n",
    "    if len(corpus) == 0:\n",
    "        continue\n",
    "\n",
    "    sampled[i] = []\n",
    "    clusters = cluster(corpus)\n",
    "    clusters = {int(k):v for k,v in clusters.items()}\n",
    "    json.dump(clusters, open('%s/cache/clusters-%s.json' % (data_path, i), 'w+'))\n",
    "    \n",
    "    for j, c in clusters.items():\n",
    "        g = random.sample(c, 1)\n",
    "        sampled[i].append(g[0])"
   ]
  },
  {
   "cell_type": "code",
   "execution_count": 6,
   "id": "68513981-e883-4986-a867-0a421cd8a432",
   "metadata": {},
   "outputs": [],
   "source": [
    "json.dump(sampled, open('%s/sampled-goals.json' % data_path, 'w+'))"
   ]
  },
  {
   "cell_type": "code",
   "execution_count": 7,
   "id": "30fabc3a-0a3d-4bd8-ab99-54db3048fdd8",
   "metadata": {},
   "outputs": [
    {
     "name": "stdout",
     "output_type": "stream",
     "text": [
      "0: ['Allow users to view deposits and withdrawals at a glance.', 'Provide a quick overview of deposits and withdrawals at a glance.', 'Categorize user expenses to provide insights into spending habits.', 'Provide insights into spending categories to users.', 'Enable users to see a breakdown of how much they spend and where.']\n",
      "1: ['Allow setting parameters for debit card transactions including daily maximum limits.', 'Allow users to block certain kinds of debit card transactions.', 'Allow users to set a daily transaction limit for their debit card.', 'Enable users to set parameters for their debit card.', 'Provide a way to lock and unlock cards.', 'Provide an option to replace a card.', 'Make it easier to find the option to change limits on the card.', 'Allow users to set and change card limits.']\n",
      "10: ['Allow users to contest transactions.', 'Allow users to contest transactions if needed.', 'Allow users to set limits on transactions.', 'Provide an intuitive way to set limits on transactions.', 'Enable users to perform transactions with desired limit functionalities.']\n",
      "11: ['Provide a dashboard that presents all bank accounts and balances upon sign-in.', 'Display all bank accounts with balances on a single dashboard upon sign in.', 'Provide users with access to a dashboard showing their bank accounts.']\n",
      "12: ['Implement two-factor authentication for first-time sign-ins on new devices.', 'Provide two-factor authentication to enhance security.']\n",
      "13: ['Provide access to investment advisors to assist users who are new to investing.', 'Provide access to one-on-one consultations with investment advisors.', 'Enable users to receive guidance from knowledgeable advisors before starting to invest.']\n",
      "14: ['Improve accessibility for important, less frequently used features.', 'Minimize the number of actions required to access niche features.', 'Improve accessibility of important but less frequently used features, such as locking or unlocking debit cards, to reduce the number of steps required.']\n",
      "2: ['Facilitate splitting costs with friends.', 'Support payments at grocery stores and other outlets using digital payment methods.', 'Facilitate splitting costs with friends through digital payments.', 'Allow for instant transfer of small amounts of money using phone numbers.', 'Provide a connection to payment systems like Apple Pay for making purchases at retail outlets.', 'Enable users to perform Zelle payments instantaneously between two accounts based on phone numbers.', 'Ensure ease of use for performing quick payments to friends or family.', 'Enable users to text or chat with a bank representative through the website']\n",
      "3: ['Provide clear options for different types of transfers.', 'Track transfer activity for users.', 'Make transfer options easily accessible.', 'Enable tracking of scheduled transfers and transfer activity.', 'Provide options for setting up repeated transfers with customizable frequency.', 'Confirm the details of a transfer before execution.', 'Specify the amount to transfer.', 'Select the transfer date for scheduling the transfer.', 'Enter a note for the transfer to keep track of its purpose.', 'Set up repeated transfers with options for frequency and specific dates.', 'Confirm the transfer details before finalizing the transaction.', 'View scheduled transfers in the transfer activity section.']\n",
      "4: ['Provide a chat-based interface for customer support to reduce anxiety and allow multitasking', 'Include an option to interact with an AI bot for assistance and navigation on the website', 'Reduce anxiety associated with support interactions.', 'Enable multitasking during support interactions.', 'Provide a chat-based interface for support.', 'Enable text-based interaction with an AI bot for support.']\n",
      "5: ['Include features commonly expected in banking services.', 'Implement a feature to integrate Zelle for convenience.', 'Ensure main functions are accessible for daily use.', 'Ensure main functions are highly accessible for daily tasks such as transferring money and checking transactions.']\n",
      "6: ['Have a user interface that is functional and useful.', 'Improve intuitiveness of navigating dashboard options.', 'Improve the intuitiveness of the user interface.', 'Facilitate user interactions for those not familiar with website navigation.']\n",
      "7: ['Display recent transactions on the main screen without additional navigation.', 'Display a small list of recent transactions without needing additional clicks.', 'Notify users of transactions via phone notifications.', 'Send notifications for each transaction made.', 'Display current balance, transactions, and account information to users.', 'Display previous transactions with additional details including amount spent, location, time, and balance at each point in time.', 'Categorize transactions beyond basic categories like card, transfer, or fee, such as groceries or fuel.', \"Notify users of the scheduled transfer's status and expected execution date.\", 'Ensure that transaction scheduling is possible.']\n",
      "8: ['Enable easy transfer of funds between accounts.', 'Enable the transfer of funds between personal accounts.', 'Allow users to access funds in savings accounts for transactions.', 'Allow transfer to external accounts after they are added.', 'Allow user to add external accounts.', 'Allow users to schedule transfers between their accounts.', 'Provide an option to link and manage external accounts.', 'Allow users to input account numbers for external transfers.', 'Schedule a transfer from a checking account to a savings account.']\n",
      "9: ['Enable users to set monetary goals and track progress towards them.', 'Allow users to set and track monetary goals.', \"Track user's income and expenses to help set and achieve financial goals.\", 'Allow users to set financial goals and track progress towards them.']\n"
     ]
    }
   ],
   "source": [
    "clusters = json.load(open('%s/cache/clusters-4.json' % data_path, 'r'))\n",
    "for i in sorted(clusters.keys()):\n",
    "    print('%s: %s' % (i, clusters[i]))"
   ]
  },
  {
   "cell_type": "markdown",
   "id": "2295d3d6-e141-40bb-8f3c-20fb99a304fd",
   "metadata": {},
   "source": [
    "### Prompt-based Summarization\n",
    "\n",
    "The following cells study the use of prompts to reduce redundancy in goals."
   ]
  },
  {
   "cell_type": "code",
   "execution_count": 8,
   "id": "444d8abf-3951-43c3-ae0c-02f4a34e3d78",
   "metadata": {},
   "outputs": [],
   "source": [
    "from openai import OpenAI\n",
    "\n",
    "client = OpenAI()\n",
    "\n",
    "def prompt_model(prompt):\n",
    "    response = client.chat.completions.create(\n",
    "      model=\"gpt-4o-2024-08-06\",\n",
    "      #model='o3-mini-2025-01-31',\n",
    "      #model='gpt-4o-mini',\n",
    "      messages=[\n",
    "        {\n",
    "          \"role\": \"system\",\n",
    "          \"content\": \"You are a helpful assistant.\"\n",
    "        },\n",
    "        {\n",
    "          \"role\": \"user\",\n",
    "          \"content\": prompt\n",
    "        }\n",
    "      ]\n",
    "    )\n",
    "    return response.choices[0].message.content"
   ]
  },
  {
   "cell_type": "code",
   "execution_count": 9,
   "id": "21264259-a5b5-4e17-a9e3-3143379af314",
   "metadata": {},
   "outputs": [
    {
     "name": "stdout",
     "output_type": "stream",
     "text": [
      "Generating cluster for goals 32\n",
      "Generating cluster for goals 35\n",
      "Generating cluster for goals 34\n",
      "Generating cluster for goals 33\n",
      "Generating cluster for goals 20\n",
      "Generating cluster for goals 18\n",
      "Generating cluster for goals 27\n",
      "Generating cluster for goals 9\n",
      "Generating cluster for goals 11\n",
      "Generating cluster for goals 7\n",
      "Generating cluster for goals 29\n",
      "Generating cluster for goals 16\n",
      "Generating cluster for goals 6\n",
      "Generating cluster for goals 28\n",
      "Generating cluster for goals 17\n",
      "Generating cluster for goals 10\n",
      "Generating cluster for goals 19\n",
      "Generating cluster for goals 26\n",
      "Generating cluster for goals 8\n",
      "Generating cluster for goals 21\n",
      "Generating cluster for goals 36\n",
      "Generating cluster for goals 31\n",
      "Generating cluster for goals 30\n",
      "Generating cluster for goals 24\n",
      "Generating cluster for goals 23\n",
      "Generating cluster for goals 4\n",
      "Generating cluster for goals 15\n",
      "Generating cluster for goals 3\n",
      "Generating cluster for goals 12\n",
      "Generating cluster for goals 13\n",
      "Generating cluster for goals 5\n",
      "Generating cluster for goals 14\n",
      "Generating cluster for goals 22\n",
      "Generating cluster for goals 25\n"
     ]
    }
   ],
   "source": [
    "prompt = \"\"\"Read the following list of goals and summarize the list into as few goal statements as possible by removing any duplicate or similar goals. When summarizing a goal, do not reference any specific product or service name, instead describe the technology provided by that product or service. Each goal should describe one action. Avoid describing the development of software and focus only on what software should do. Respond with the goals in a JSON list. Do not comment or elaborate.\n",
    "\n",
    "List: %s\n",
    "\n",
    "Summaries: \"\"\"\n",
    "\n",
    "def get_json(r):\n",
    "    i = r.find('```json')\n",
    "    j = r.find('```', i + 1)\n",
    "    if i >= 0 and j > i:\n",
    "        return r[i+7:j]\n",
    "    else:\n",
    "        return ''\n",
    "\n",
    "summarized = {}\n",
    "for i in goals.keys():\n",
    "    print('Generating cluster for goals %s' % i)\n",
    "\n",
    "    corpus = []\n",
    "    for j in range(len(goals[i])):\n",
    "        corpus.extend(goals[i][j])\n",
    "\n",
    "    if len(corpus) == 0:\n",
    "        continue\n",
    "\n",
    "    clusters = cluster(corpus)\n",
    "    \n",
    "    summarized[i] = []\n",
    "    for j, c in clusters.items():\n",
    "        p = prompt % c\n",
    "        r = prompt_model(p)\n",
    "        #print(p)\n",
    "        #print(r)\n",
    "        #print()\n",
    "        g = json.loads(get_json(r))\n",
    "        summarized[i].extend(g)"
   ]
  },
  {
   "cell_type": "code",
   "execution_count": 10,
   "id": "2df79fe4-0a1e-462d-a031-d5bea7e236da",
   "metadata": {},
   "outputs": [
    {
     "name": "stdout",
     "output_type": "stream",
     "text": [
      "Unique goals in 32: 35\n",
      "Unique goals in 35: 41\n",
      "Unique goals in 34: 32\n",
      "Unique goals in 33: 67\n",
      "Unique goals in 20: 41\n",
      "Unique goals in 18: 32\n",
      "Unique goals in 27: 64\n",
      "Unique goals in 9: 34\n",
      "Unique goals in 11: 66\n",
      "Unique goals in 7: 34\n",
      "Unique goals in 29: 39\n",
      "Unique goals in 16: 73\n",
      "Unique goals in 6: 23\n",
      "Unique goals in 28: 67\n",
      "Unique goals in 17: 58\n",
      "Unique goals in 10: 29\n",
      "Unique goals in 19: 48\n",
      "Unique goals in 26: 32\n",
      "Unique goals in 8: 18\n",
      "Unique goals in 21: 66\n",
      "Unique goals in 36: 42\n",
      "Unique goals in 31: 28\n",
      "Unique goals in 30: 50\n",
      "Unique goals in 24: 33\n",
      "Unique goals in 23: 17\n",
      "Unique goals in 4: 46\n",
      "Unique goals in 15: 68\n",
      "Unique goals in 3: 114\n",
      "Unique goals in 12: 53\n",
      "Unique goals in 13: 57\n",
      "Unique goals in 5: 30\n",
      "Unique goals in 14: 39\n",
      "Unique goals in 22: 94\n",
      "Unique goals in 25: 30\n"
     ]
    }
   ],
   "source": [
    "for i in summarized.keys():\n",
    "    unique = set(summarized[i])\n",
    "    print('Unique goals in %s: %i' % (i, len(unique)))"
   ]
  },
  {
   "cell_type": "code",
   "execution_count": 11,
   "id": "de6cf57c-98f2-4bb5-9a98-c23752d3a104",
   "metadata": {},
   "outputs": [],
   "source": [
    "json.dump(summarized, open('%s/summarized.json' % data_path, 'w+'))"
   ]
  },
  {
   "cell_type": "code",
   "execution_count": 12,
   "id": "c19fb02e-203c-4041-b6e4-784c453d30e7",
   "metadata": {},
   "outputs": [
    {
     "name": "stdout",
     "output_type": "stream",
     "text": [
      "Provide temperature forecasts for the next day.\n",
      "Indicate the chance of rain for the next day.\n",
      "Provide hourly weather details for the next day.\n",
      "Include parameters like snow coverage and precipitation in a visual display.\n",
      "Warn users about important weather events in their area.\n",
      "Provide detailed information about severe weather events, including severity and global updates.\n",
      "Offer guides or resources to ensure user safety during extreme weather events.\n",
      "Include recommendations from local authorities or organizations during weather alerts.\n",
      "Enable users to make informed decisions and adjust activities based on weather conditions.\n",
      "Provide weather forecasts including cloud coverage for trip planning.\n",
      "Allow users to check historical weather data for trip planning.\n",
      "Enable monitoring weather forecasts starting weeks before a planned trip.\n",
      "Offer accurate weather predictions a few days before a planned event.\n",
      "Provide very local weather information for specific locations.\n",
      "Allow users to select favorite cities for easy weather access.\n",
      "Provide information on the source of its data.\n",
      "Allow users to share information with others.\n",
      "Provide precise hourly coverage.\n",
      "Display detailed information on user interaction with specific data points.\n",
      "Allow users to set preferred locations for personalized updates.\n",
      "Send a daily notification summarizing the next day's information.\n",
      "Provide a user interface to display main weather information including temperature, daily minimum and maximum temperature, and weather events.\n",
      "Display detailed weather data, such as wind speed, humidity, UV index, and perceived temperature for specific hours.\n",
      "Allow temperature display to switch between Fahrenheit and Celsius.\n",
      "Include the ability to switch between different time views such as morning, afternoon, evening, and overnight.\n",
      "Provide navigation through tabs for viewing hourly, daily, weekend, monthly, and radar information.\n",
      "Minimize the presence of ads to avoid distraction.\n",
      "Restrict video and pop-up ads to enhance the user experience.\n",
      "Reduce ad-related interruptions between UI elements and transitions.\n",
      "Provide an option to change the background color to a plain color.\n",
      "Enhance radar functionality with detailed and intuitive features.\n",
      "Provide detailed radar data with animations.\n",
      "Allow users to manage notification settings.\n",
      "Enable users to control whether notifications are on or off on specific devices.\n",
      "Manage site permissions.\n",
      "Clear location data to ensure privacy.\n",
      "Prevent storage of location data on external servers.\n",
      "Prevent unauthorized access to user data.\n",
      "Improve the readability and navigability of the user interface.\n"
     ]
    }
   ],
   "source": [
    "for g in summarized['14']:\n",
    "    print(g)"
   ]
  },
  {
   "cell_type": "code",
   "execution_count": null,
   "id": "540c5adf-f207-4581-9e77-928f01176d26",
   "metadata": {},
   "outputs": [],
   "source": []
  }
 ],
 "metadata": {
  "kernelspec": {
   "display_name": "Python 3 (ipykernel)",
   "language": "python",
   "name": "python3"
  },
  "language_info": {
   "codemirror_mode": {
    "name": "ipython",
    "version": 3
   },
   "file_extension": ".py",
   "mimetype": "text/x-python",
   "name": "python",
   "nbconvert_exporter": "python",
   "pygments_lexer": "ipython3",
   "version": "3.11.11"
  }
 },
 "nbformat": 4,
 "nbformat_minor": 5
}
