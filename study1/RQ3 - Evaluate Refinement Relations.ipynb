{
 "cells": [
  {
   "cell_type": "markdown",
   "id": "899adcf5-1a51-4c6b-a0bc-3cb5782aac02",
   "metadata": {},
   "source": [
    "## Evaluate Refinement Relationships\n",
    "\n",
    "This notebook describes the method for evaluating the random sample of refinement relations. First, we compute inter-rater reliability as we develop the heuristics for coding the relations. Next, we evaluate the sampled relations using the ground truth dataset."
   ]
  },
  {
   "cell_type": "code",
   "execution_count": null,
   "id": "939ca093-fdf8-4168-b01a-f098f0575173",
   "metadata": {},
   "outputs": [],
   "source": [
    "data_path = 'data1'"
   ]
  },
  {
   "cell_type": "code",
   "execution_count": null,
   "id": "c51baef6-b258-43e2-b5c1-08bd53495d5d",
   "metadata": {},
   "outputs": [],
   "source": [
    "from sklearn.metrics import cohen_kappa_score\n",
    "import csv\n",
    "\n",
    "rows1 = [r for r in csv.reader(open('%s/comps_round1.csv' % data_path, 'r'))][1:51]\n",
    "y1 = ['T' if r[2].startswith('REFINE') else 'F' for r in rows1]\n",
    "y2 = ['T' if r[3].startswith('REFINE') else 'F' for r in rows1]\n",
    "print(cohen_kappa_score(y1, y2))\n",
    "\n",
    "# 0.28810720268006695"
   ]
  },
  {
   "cell_type": "code",
   "execution_count": null,
   "id": "2abae67f-caa9-4755-b106-977e9e05d602",
   "metadata": {},
   "outputs": [],
   "source": [
    "rows2 = [r for r in csv.reader(open('%s/comps_round2.csv' % data_path, 'r'))][1:]\n",
    "y1 = ['T' if r[2].startswith('REFINE') else 'F' for r in rows2[51:100]]\n",
    "y2 = ['T' if r[3].startswith('REFINE') else 'F' for r in rows2[51:100]]\n",
    "print(cohen_kappa_score(y1, y2))\n",
    "\n",
    "# 0.7110362257792755"
   ]
  },
  {
   "cell_type": "code",
   "execution_count": null,
   "id": "eb6f8bfb-a08e-40aa-88dd-d164de7e2ba3",
   "metadata": {},
   "outputs": [],
   "source": []
  },
  {
   "cell_type": "code",
   "execution_count": 75,
   "id": "caa1408d-772d-48a4-abd7-70b765c99ddf",
   "metadata": {},
   "outputs": [],
   "source": [
    "expected = [r for r in csv.reader(open('%s/comps.csv' % data_path, 'r'))]\n",
    "predicted = [r for r in csv.reader(open('%s/comps_unlabeled.csv' % data_path, 'r'))]\n",
    "responses = {}\n",
    "for r in expected:\n",
    "    if r[3] != '':\n",
    "        k = '%s:%s' % (r[0], r[1])\n",
    "        responses[k] = 'T' if r[3].startswith('REFINE') else 'F'"
   ]
  },
  {
   "cell_type": "code",
   "execution_count": 76,
   "id": "d87703c8-7b8b-4455-a51f-a7eb41af7ed7",
   "metadata": {},
   "outputs": [],
   "source": [
    "import networkx as nx\n",
    "\n",
    "def get_cycles(edges):\n",
    "    g = nx.DiGraph(edges)\n",
    "    return [c for c in nx.simple_cycles(g)]\n",
    "\n",
    "def get_paths(edges):\n",
    "    g = nx.DiGraph(edges)\n",
    "    rs = (v for v, d in g.in_degree() if d == 0)\n",
    "    ls = [v for v, d in g.out_degree() if d == 0]\n",
    "    paths = []\n",
    "    for r in rs:\n",
    "        p = nx.all_simple_paths(g, r, ls)\n",
    "        paths.extend(p)\n",
    "    return paths\n",
    "\n",
    "def get_edge_set(paths):\n",
    "    e = set()\n",
    "    for p in paths:\n",
    "        for i in range(len(p)):\n",
    "            for j in range(i + 1, len(p)):\n",
    "                e.add((p[i], p[j]))\n",
    "    return e\n",
    "\n",
    "def get_closure(e, edges):\n",
    "    closure = set()\n",
    "    for n in edges:\n",
    "        if n[0] == e[1]:\n",
    "            closure.add(n)\n",
    "            closure.update(get_closure(n, edges))\n",
    "\n",
    "    return closure\n",
    "\n",
    "def verify_graph(nodes, edges):\n",
    "    n_list = list(set([e[0] for e in edges]) | set([e[1] for e in edges]))\n",
    "    return [n for n in n_list if n not in nodes]"
   ]
  },
  {
   "cell_type": "code",
   "execution_count": 77,
   "id": "e871f838-93d4-474f-8b3c-5a34e80490ce",
   "metadata": {},
   "outputs": [
    {
     "name": "stdout",
     "output_type": "stream",
     "text": [
      "Implied size: 1139\n",
      "Non-transitive size: 336\n"
     ]
    }
   ],
   "source": [
    "import json\n",
    "\n",
    "graphs = json.load(open('graphs3.json', 'r'))\n",
    "\n",
    "# create a non-transitive set and implied set\n",
    "imp_check = set()\n",
    "non_trans = set()\n",
    "for i in graphs.keys():\n",
    "    for j in range(len(graphs[i])):\n",
    "        nodes, edges, implied = graphs[i][j]\n",
    "        edges = [(e[0], e[1]) for e in edges]\n",
    "        \n",
    "        # validate graph\n",
    "        missing = verify_graph(nodes, edges)\n",
    "        if len(missing) > 0:\n",
    "            continue\n",
    "        cycles = get_cycles(edges)\n",
    "        if len(cycles) > 0:\n",
    "            continue\n",
    "        for e in edges:\n",
    "            if e[0] in implied or e[1] in implied:\n",
    "                imp_check.add('%s:%s' % (nodes[e[0]], nodes[e[1]]))\n",
    "            else:\n",
    "                non_trans.add('%s:%s' % (nodes[e[0]], nodes[e[1]]))\n",
    "\n",
    "print('Implied size: %i' % len(imp_check))\n",
    "print('Non-transitive size: %i' % len(non_trans))"
   ]
  },
  {
   "cell_type": "code",
   "execution_count": 78,
   "id": "83b5ab2c-2c62-4f70-82b1-7da03a83c201",
   "metadata": {},
   "outputs": [
    {
     "name": "stdout",
     "output_type": "stream",
     "text": [
      "Total pairs: 526\n",
      "\n",
      "Accuracy: 0.694\n",
      "T3 / F3 = 19 / 7\n",
      "Counter({'tp': 178, 'tn': 168, 'fp': 82, 'fn': 72, 't3': 19, 'f3': 7})\n",
      "\n",
      "Implied Accuracy: 0.727\n",
      "Counter({'tp': 125, 'fn': 47})\n",
      "\n",
      "Non-Closure Accuracy: 0.694\n",
      "Counter({'tp': 31, 'fn': 11, 'fp': 4, 'tn': 3})\n",
      "\n",
      "Closure Accuracy: 0.692\n",
      "Counter({'tn': 165, 'tp': 147, 'fp': 78, 'fn': 61})\n"
     ]
    }
   ],
   "source": [
    "from collections import Counter\n",
    "c = {'all': Counter(), 'imp': Counter(), 'non': Counter(), 'trn': Counter()}\n",
    "seen = set()\n",
    "for r in keyed:\n",
    "    k = '%s:%s' % (r[1], r[2])\n",
    "    if k in seen:\n",
    "        continue\n",
    "    seen.add(k)\n",
    "    if k in responses:\n",
    "        if r[0] == '0':\n",
    "            if responses[k] == 'T':\n",
    "                c['all']['tp'] += 1\n",
    "                if k in imp_check:\n",
    "                    c['imp']['tp'] += 1\n",
    "                if k in non_trans:\n",
    "                    c['non']['tp'] += 1\n",
    "                else:\n",
    "                    c['trn']['tp'] += 1\n",
    "            elif responses[k] == 'F':\n",
    "                c['all']['fn'] += 1\n",
    "                if k in similar:\n",
    "                    c['all']['fs'] += 1 # false similar\n",
    "                if k in imp_check:\n",
    "                    c['imp']['fn'] += 1\n",
    "                if k in non_trans:\n",
    "                    c['non']['fn'] += 1\n",
    "                else:\n",
    "                    c['trn']['fn'] += 1\n",
    "        elif r[0] == '1':\n",
    "            if responses[k] == 'T':\n",
    "                c['all']['fp'] += 1\n",
    "                if k in similar:\n",
    "                    c['all']['fs'] += 1 # false similar\n",
    "                if k in imp_check:\n",
    "                    c['imp']['fp'] += 1\n",
    "                if k in non_trans:\n",
    "                    c['non']['fp'] += 1\n",
    "                else:\n",
    "                    c['trn']['fp'] += 1\n",
    "            elif responses[k] == 'F':\n",
    "                c['all']['tn'] += 1\n",
    "                if k in imp_check:\n",
    "                    c['imp']['tn'] += 1\n",
    "                if k in non_trans:\n",
    "                    c['non']['tn'] += 1\n",
    "                else:\n",
    "                    c['trn']['tn'] += 1\n",
    "        elif r[0] == '3':\n",
    "            if responses[k] == 'T':\n",
    "                c['all']['t3'] += 1\n",
    "            elif responses[k] == 'F':\n",
    "                c['all']['f3'] += 1\n",
    "                if k in similar:\n",
    "                    c['all']['fs'] += 1 # false similar\n",
    "\n",
    "print('Total pairs: %i' % len(seen))\n",
    "print()\n",
    "d = c['all']\n",
    "print('Accuracy: %0.3f' % ((d['tp'] + d['tn'] + d['t3']) / (d['tp'] + d['tn'] + d['fp'] + d['fn'] + d['t3'] + d['f3'])))\n",
    "print('T3 / F3 = %i / %i' % (d['t3'], d['f3']))\n",
    "print(d)\n",
    "print()\n",
    "d = c['imp']\n",
    "print('Implied Accuracy: %0.3f' % ((d['tp'] + d['tn']) / (d['tp'] + d['tn'] + d['fp'] + d['fn'])))\n",
    "print(d)\n",
    "print()\n",
    "d = c['non']\n",
    "print('Non-Closure Accuracy: %0.3f' % ((d['tp'] + d['tn']) / (d['tp'] + d['tn'] + d['fp'] + d['fn'])))\n",
    "print(d)\n",
    "print()\n",
    "d = c['trn']\n",
    "print('Closure Accuracy: %0.3f' % ((d['tp'] + d['tn']) / (d['tp'] + d['tn'] + d['fp'] + d['fn'])))\n",
    "print(d)"
   ]
  },
  {
   "cell_type": "code",
   "execution_count": null,
   "id": "1820c79c-b29a-4e89-b662-cf7f18ad79ea",
   "metadata": {},
   "outputs": [],
   "source": []
  },
  {
   "cell_type": "code",
   "execution_count": null,
   "id": "fda66bb3-c1fa-4e96-b253-5e8ed9769e71",
   "metadata": {},
   "outputs": [],
   "source": []
  }
 ],
 "metadata": {
  "kernelspec": {
   "display_name": "Python 3 (ipykernel)",
   "language": "python",
   "name": "python3"
  },
  "language_info": {
   "codemirror_mode": {
    "name": "ipython",
    "version": 3
   },
   "file_extension": ".py",
   "mimetype": "text/x-python",
   "name": "python",
   "nbconvert_exporter": "python",
   "pygments_lexer": "ipython3",
   "version": "3.11.11"
  }
 },
 "nbformat": 4,
 "nbformat_minor": 5
}
