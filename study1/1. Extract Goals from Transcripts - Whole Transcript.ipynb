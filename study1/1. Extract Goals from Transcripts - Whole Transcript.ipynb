{
 "cells": [
  {
   "cell_type": "markdown",
   "id": "72403443-262d-4925-b1f8-bfd23aa3a515",
   "metadata": {},
   "source": [
    "# Extract Goals from Transcripts - Whole Transcript\n",
    "\n",
    "This notebook proceeds to extract goals from interview transcripts in two stages: (1) generate goals over the whole transcript; (2) trace generated goals back to the source text in the transcript."
   ]
  },
  {
   "cell_type": "code",
   "execution_count": 1,
   "id": "c682cf82-6bd3-4c59-96c3-709804406312",
   "metadata": {},
   "outputs": [],
   "source": [
    "from openai import OpenAI\n",
    "\n",
    "client = OpenAI()\n",
    "\n",
    "def prompt_model(prompt):\n",
    "    response = client.chat.completions.create(\n",
    "      model=\"gpt-4o-2024-08-06\",\n",
    "      messages=[\n",
    "        {\n",
    "          \"role\": \"system\",\n",
    "          \"content\": \"You are a business analyst collecting requirements for a software application. Your job is to review interview transcripts between an interviewer who is a business analyst and a stakeholder who is a prospective user of the application. The interviewer will ask the stakeholder questions to identify their requirements for the application.\"\n",
    "        },\n",
    "        {\n",
    "          \"role\": \"user\",\n",
    "          \"content\": prompt\n",
    "        }\n",
    "      ]\n",
    "    )\n",
    "    return response.choices[0].message.content"
   ]
  },
  {
   "cell_type": "code",
   "execution_count": 2,
   "id": "e3722b62-74e5-4251-85c3-cf59cc271651",
   "metadata": {},
   "outputs": [
    {
     "name": "stdout",
     "output_type": "stream",
     "text": [
      "Read 34 transcripts\n"
     ]
    }
   ],
   "source": [
    "import json\n",
    "\n",
    "data_path = 'data1'\n",
    "\n",
    "data = json.load(open('%s/transcripts.json' % data_path, 'r'))\n",
    "print('Read %i transcripts' % len(data['transcript']))"
   ]
  },
  {
   "cell_type": "code",
   "execution_count": 3,
   "id": "4fb3b13e-8b7a-4868-a275-c177cacf6d32",
   "metadata": {},
   "outputs": [
    {
     "name": "stdout",
     "output_type": "stream",
     "text": [
      "Extracting goals from transcript 0 with 84 turns . . . . . . . . . . .done!\n",
      " . . . . . . . . . .done!nscript 1 with 50 turns .\n",
      " . . . . . . . . . .done!nscript 2 with 27 turns .\n",
      " . . . . . . . . . .done!nscript 3 with 191 turns .\n",
      " . . . . . . . . . .done!nscript 4 with 104 turns .\n",
      " . . . . . . . . . .done!nscript 5 with 70 turns .\n",
      " . . . . . . . . . .done!nscript 6 with 111 turns .\n",
      " . . . . . . . . . .done!nscript 7 with 59 turns .\n",
      " . . . . . . . . . .done!nscript 8 with 111 turns .\n",
      " . . . . . . . . . .done!nscript 9 with 86 turns .\n",
      " . . . . . . . . . .done!nscript 10 with 56 turns .\n",
      " . . . . . . . . . .done!nscript 11 with 118 turns .\n",
      " . . . . . . . . . .done!nscript 12 with 46 turns .\n",
      " . . . . . . . . . .done!nscript 13 with 70 turns .\n",
      " . . . . . . . . . .done!nscript 14 with 114 turns .\n",
      " . . . . . . . . . .done!nscript 15 with 78 turns .\n",
      " . . . . . . . . . .done!nscript 16 with 65 turns .\n",
      " . . . . . . . . . .done!nscript 17 with 48 turns .\n",
      " . . . . . . . . . .done!nscript 18 with 98 turns .\n",
      " . . . . . . . . . .done!nscript 19 with 77 turns .\n",
      " . . . . . . . . . .done!nscript 20 with 77 turns .\n",
      " . . . . . . . . . .done!nscript 21 with 33 turns .\n",
      " . . . . . . . . . .done!nscript 22 with 46 turns .\n",
      " . . . . . . . . . .done!nscript 23 with 36 turns .\n",
      " . . . . . . . . . .done!nscript 24 with 19 turns .\n",
      " . . . . . . . . . .done!nscript 25 with 67 turns .\n",
      " . . . . . . . . . .done!nscript 26 with 60 turns .\n",
      " . . . . . . . . . .done!nscript 27 with 163 turns .\n",
      " . . . . . . . . . .done!nscript 28 with 142 turns .\n",
      " . . . . . . . . . .done!nscript 29 with 50 turns .\n",
      " . . . . . . . . . .done!nscript 30 with 116 turns .\n",
      " . . . . . . . . . .done!nscript 31 with 75 turns .\n",
      " . . . . . . . . . .done!nscript 32 with 118 turns .\n",
      " . . . . . . . . . .done!nscript 33 with 27 turns .\n"
     ]
    }
   ],
   "source": [
    "prompt1 = \"\"\"Read the following interview transcript excerpt and respond with any goals that the speaker expresses. Write each goal in general language so that it describes only one action, and do not include references to applications, products or services in the goal. Only write goals that can be traced to specific phrases in the speech. Respond with the goals in a JSON list of strings.\n",
    "\n",
    "%s\n",
    "\n",
    "Goals: \n",
    "\"\"\"\n",
    "\n",
    "prompt2 = \"\"\"Read the following goals in JSON format and identify the substrings in the interview transcript excerpt from which the goals were generated. Respond in JSON using the format {'goal': 'goal statement', 'phrases': ['phrase1', 'phrase2']}\n",
    "\n",
    "%s\n",
    "\n",
    "%s\n",
    "\n",
    "Response: \"\"\"\n",
    "\n",
    "def extract_goals(transcript):\n",
    "    extracted = []\n",
    "    excerpt = '\\n'.join(['%s: %s\\n' % (t['speaker'], t['text']) for t in transcript])\n",
    "    p1 = prompt1 % excerpt\n",
    "    #print(p1)\n",
    "    r1 = prompt_model(p1)\n",
    "    #print(r1)\n",
    "\n",
    "    goals = []\n",
    "    phrases = []\n",
    "    if r1.startswith('```json') and r1.endswith('```'):\n",
    "        goals = json.loads(r1[7:-3])\n",
    "\n",
    "        p2 = prompt2 % (r1[7:-3], excerpt)\n",
    "        r2 = prompt_model(p2)\n",
    "\n",
    "        if r2.startswith('```json') and r2.endswith('```'):\n",
    "            phrases = json.loads(r2[7:-3])\n",
    "  \n",
    "    return {'excerpt': excerpt, 'goals': goals, 'phrases': phrases} \n",
    "\n",
    "results = {}\n",
    "for i in range(len(data['transcript'])):\n",
    "    print('Extracting goals from transcript %i with %i turns' % (i, len(data['transcript'][i])), end='')\n",
    "    \n",
    "    results[data['ids'][i]] = []\n",
    "    for j in range(10):  # goal extraction performed 10 times\n",
    "        print(' .', end='')\n",
    "        \n",
    "        e = extract_goals(data['transcript'][i])\n",
    "        results[data['ids'][i]].append(e)\n",
    "    print(' .done!')"
   ]
  },
  {
   "cell_type": "code",
   "execution_count": 4,
   "id": "e3f89c19-b8d1-4fff-9a0c-818e6e2248c6",
   "metadata": {},
   "outputs": [],
   "source": [
    "json.dump(results, open('%s/extracted-whole.json' % data_path, 'w+'))  # moved under data0/extracted-whole.json"
   ]
  },
  {
   "cell_type": "code",
   "execution_count": 5,
   "id": "f10c44c4-a954-4504-8ae2-353cfb7ab696",
   "metadata": {},
   "outputs": [
    {
     "name": "stdout",
     "output_type": "stream",
     "text": [
      "dict_keys(['32', '35', '34', '33', '20', '18', '27', '9', '11', '7', '29', '16', '6', '28', '17', '10', '19', '26', '8', '21', '36', '31', '30', '24', '23', '4', '15', '3', '12', '13', '5', '14', '22', '25'])\n"
     ]
    }
   ],
   "source": [
    "print(results.keys())"
   ]
  },
  {
   "cell_type": "code",
   "execution_count": null,
   "id": "559493fc-cca4-410b-b521-2a4a7b7a410d",
   "metadata": {},
   "outputs": [],
   "source": []
  }
 ],
 "metadata": {
  "kernelspec": {
   "display_name": "Python 3 (ipykernel)",
   "language": "python",
   "name": "python3"
  },
  "language_info": {
   "codemirror_mode": {
    "name": "ipython",
    "version": 3
   },
   "file_extension": ".py",
   "mimetype": "text/x-python",
   "name": "python",
   "nbconvert_exporter": "python",
   "pygments_lexer": "ipython3",
   "version": "3.11.11"
  }
 },
 "nbformat": 4,
 "nbformat_minor": 5
}
