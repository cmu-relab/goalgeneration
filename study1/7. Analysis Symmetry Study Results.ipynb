{
 "cells": [
  {
   "cell_type": "code",
   "execution_count": 10,
   "id": "686a33eb-e346-4f34-a300-53781b3617ec",
   "metadata": {},
   "outputs": [],
   "source": [
    "import json, csv\n",
    "\n",
    "data_path = 'data1'\n",
    "\n",
    "comps1 = json.load(open('%s/comps1.json' % data_path, 'r'))"
   ]
  },
  {
   "cell_type": "code",
   "execution_count": 12,
   "id": "9e8a737d-f3d6-4b2e-9322-332d4f16faa1",
   "metadata": {},
   "outputs": [
    {
     "name": "stdout",
     "output_type": "stream",
     "text": [
      "['Search for specific information or messages', 'Enable seamless and secure data transfer', [['F', 'F', 'F', 'F'], ['F', 'F', 'F', 'F'], ['F', 'F', 'F', 'F'], ['F', 'F', 'F', 'F'], ['F', 'F', 'F', 'F'], ['F', 'F', 'F', 'F'], ['F', 'F', 'F', 'F'], ['F', 'F', 'F', 'F'], ['F', 'F', 'F', 'F'], ['F', 'F', 'F', 'F']]]\n"
     ]
    }
   ],
   "source": [
    "print(comps1[0])"
   ]
  },
  {
   "cell_type": "code",
   "execution_count": 14,
   "id": "521cc9b2-c131-49a9-8598-6f8fe2e9a429",
   "metadata": {},
   "outputs": [
    {
     "name": "stdout",
     "output_type": "stream",
     "text": [
      "Found 96/550 probable refinements.\n"
     ]
    }
   ],
   "source": [
    "ref_map1 = {}\n",
    "error = 0\n",
    "for d, c in zip(data, comps1):\n",
    "    refines = sum([1 for r in c[2:][0] if r[0] == 'T']) + sum([1 for r in c[2:][0] if r[1] == 'F']) + sum([1 for r in c[2:][0] if r[2] == 'F']) + sum([1 for r in c[2:][0] if r[3] == 'T'])\n",
    "    refined_by = sum([1 for r in c[2:][0] if r[0] == 'F']) + sum([1 for r in c[2:][0] if r[1] == 'T']) + sum([1 for r in c[2:][0] if r[2] == 'T']) + sum([1 for r in c[2:][0] if r[3] == 'F'])\n",
    "    none = sum([1 for r in c[2:][0] if r[0] == 'F']) + sum([1 for r in c[2:][0] if r[1] == 'F']) + sum([1 for r in c[2:][0] if r[2] == 'F']) + sum([1 for r in c[2:][0] if r[3] == 'F'])\n",
    "    ref_ratio = refines / (refines + refined_by)\n",
    "    if ref_ratio < 0.3:\n",
    "        ref_map1['%s:%s' % (d[0], d[1])] = [d[0], d[1], ref_ratio]\n",
    "    elif ref_ratio > 0.7:\n",
    "        ref_map1['%s:%s' % (d[0], d[1])] = [d[0], d[1], ref_ratio]\n",
    "       \n",
    "print('Found %i/%i probable refinements.' % (len(ref_map1), len(comps1)))"
   ]
  },
  {
   "cell_type": "code",
   "execution_count": 16,
   "id": "d8b4a1d4-bbe6-489d-8424-2f630b4a717e",
   "metadata": {},
   "outputs": [
    {
     "name": "stdout",
     "output_type": "stream",
     "text": [
      "1099\n"
     ]
    }
   ],
   "source": [
    "data2 = json.load(open('%s/comps2.json' % data_path, 'r'))\n",
    "print(len(data2))"
   ]
  },
  {
   "cell_type": "code",
   "execution_count": 17,
   "id": "54674610-82a4-4b0d-9753-5a6272077464",
   "metadata": {},
   "outputs": [
    {
     "name": "stdout",
     "output_type": "stream",
     "text": [
      "['Search for specific information or messages', 'Enable seamless and secure data transfer', [['A', 'A', 'B', 'A', 'C', 'C'], ['A', 'A', 'A', 'A', 'C', 'C'], ['A', 'A', 'B', 'A', 'C', 'C'], ['A', 'A', 'B', 'A', 'C', 'C'], ['A', 'A', 'B', 'A', 'C', 'C']]]\n"
     ]
    }
   ],
   "source": [
    "print(data2[0])"
   ]
  },
  {
   "cell_type": "code",
   "execution_count": 18,
   "id": "7f33ead0-8ae7-448a-9697-5733ff958cf8",
   "metadata": {},
   "outputs": [
    {
     "name": "stdout",
     "output_type": "stream",
     "text": [
      "Found 371/550 probable refinements.\n"
     ]
    }
   ],
   "source": [
    "ref_map2 = {}\n",
    "error = 0\n",
    "for d in data2:\n",
    "    if d[0] == '' or d[1] == '':\n",
    "        error += 1\n",
    "        continue\n",
    "    refines = sum([1 for r in d[2:][0] if r[0] == 'A']) + sum([1 for r in d[2:][0] if r[1] == 'B']) + sum([1 for r in d[2:][0] if r[2] == 'B']) + sum([1 for r in d[2:][0] if r[3] == 'A']) + sum([1 for r in d[2:][0] if r[4] == 'A']) + sum([1 for r in d[2:][0] if r[5] == 'B'])\n",
    "    refined_by = sum([1 for r in d[2:][0] if r[0] == 'B']) + sum([1 for r in d[2:][0] if r[1] == 'A']) + sum([1 for r in d[2:][0] if r[2] == 'A']) + + sum([1 for r in d[2:][0] if r[3] == 'B']) + sum([1 for r in d[2:][0] if r[4] == 'B']) + sum([1 for r in d[2:][0] if r[5] == 'A'])\n",
    "\n",
    "    if refines + refined_by == 0:\n",
    "        continue\n",
    "\n",
    "    ref_ratio = refines / (refines + refined_by)\n",
    "    \n",
    "    if ref_ratio < 0.4 or ref_ratio > 0.6:\n",
    "        #print('G1: %s\\nG2: %s\\n[%0.3f] refines: %i / refined_by: %i\\n' % (d[0], d[1], ref_ratio, refines, refined_by))\n",
    "        key = '%s:%s' % (d[0], d[1])\n",
    "        ref_map2[key] = [d[0], d[1], ref_ratio]\n",
    "        \n",
    "print('Found %i/%i probable refinements.' % (len(ref_map2), len(data2) - error))"
   ]
  },
  {
   "cell_type": "code",
   "execution_count": 20,
   "id": "1aabd13c-2ddc-43fa-9d6a-b6a79cea3ec9",
   "metadata": {},
   "outputs": [
    {
     "name": "stdout",
     "output_type": "stream",
     "text": [
      "550\n"
     ]
    }
   ],
   "source": [
    "import csv\n",
    "\n",
    "data = [r for r in csv.reader(open('%s/comps_unlabeled.csv' % data_path, 'r'))]\n",
    "del data[0]\n",
    "print(len(data))"
   ]
  },
  {
   "cell_type": "code",
   "execution_count": 23,
   "id": "50026c2c-9589-498b-8b00-09d3f2a9427a",
   "metadata": {},
   "outputs": [
    {
     "name": "stdout",
     "output_type": "stream",
     "text": [
      "Accuracy 1: 0.282\n",
      "Correctness: 0/550 = 0.000\n"
     ]
    }
   ],
   "source": [
    "tp = 0\n",
    "tn = 0\n",
    "fp = 0\n",
    "fn = 0\n",
    "cc = 0\n",
    "\n",
    "for r in data:\n",
    "    key = '%s:%s' % (r[0], r[1])\n",
    "    rel = 'NONE'\n",
    "    if key in ref_map1:\n",
    "        if ref_map1[key][2] < 0.5:\n",
    "            rel = 'REFINES'\n",
    "        elif ref_map1[key][2] > 0.5:\n",
    "            rel = 'REFINED_BY'\n",
    "    #print('%s : %s' % (r[2], rel))\n",
    "    if rel == r[2]:\n",
    "        cc += 1\n",
    "    \n",
    "    if r[2] == 'NONE':\n",
    "        if not key in ref_map1:\n",
    "            tn += 1\n",
    "        else:\n",
    "            fp += 1\n",
    "    else:\n",
    "        if key in ref_map1:\n",
    "            tp += 1\n",
    "        else:\n",
    "            fn += 1\n",
    "\n",
    "print('Accuracy 1: %0.3f' % ((tp + tn) / (tp + tn + fp + fn)))\n",
    "print('Correctness: %i/%i = %0.3f' % (cc, len(data), cc / len(data)))"
   ]
  },
  {
   "cell_type": "code",
   "execution_count": 49,
   "id": "84931b03-a372-43a5-b002-6d09c20ce4b9",
   "metadata": {},
   "outputs": [
    {
     "name": "stdout",
     "output_type": "stream",
     "text": [
      "Accuracy 2: 0.578\n",
      "Correctness: 108/550 = 0.196\n"
     ]
    }
   ],
   "source": [
    "tp = 0\n",
    "tn = 0\n",
    "fp = 0\n",
    "fn = 0\n",
    "cc = 0\n",
    "\n",
    "for r in rows:\n",
    "    key = '%s:%s' % (r[0], r[1])\n",
    "    rel = 'NONE'\n",
    "    if key in ref_map2:\n",
    "        if ref_map2[key][2] < 0.5:\n",
    "            rel = 'REFINES'\n",
    "        elif ref_map2[key][2] > 0.5:\n",
    "            rel = 'REFINED_BY'\n",
    "    \n",
    "    #print('%s : %s' % (r[2], rel))\n",
    "    if rel == r[2]:\n",
    "        cc += 1\n",
    "    \n",
    "    if r[2] == 'NONE':\n",
    "        if not key in ref_map2:\n",
    "            tn += 1\n",
    "        else:\n",
    "            fp += 1\n",
    "    else:\n",
    "        if key in ref_map2:\n",
    "            tp += 1\n",
    "        else:\n",
    "            fn += 1\n",
    "\n",
    "print('Accuracy 2: %0.3f' % ((tp + tn) / (tp + tn + fp + fn)))\n",
    "print('Correctness: %i/%i = %0.3f' % (cc, len(rows), cc / len(rows)))"
   ]
  },
  {
   "cell_type": "code",
   "execution_count": 50,
   "id": "7a1b8cb2-a261-4a3e-9b4e-d0c598b34b06",
   "metadata": {},
   "outputs": [
    {
     "name": "stdout",
     "output_type": "stream",
     "text": [
      "Accuracy 2: 0.600\n",
      "Correctness: 97/550 = 0.176\n"
     ]
    }
   ],
   "source": [
    "ref_map3 = {}\n",
    "for k in ref_map1:\n",
    "    if k in ref_map2:\n",
    "        ref_map3[k] = (ref_map1[k][2] + ref_map2[k][2]) / 2\n",
    "    else:\n",
    "        ref_map3[k] = ref_map1[k][2]\n",
    "\n",
    "for k in ref_map2:\n",
    "    if not k in ref_map3:\n",
    "        ref_map3[k] = ref_map2[k][2]\n",
    "\n",
    "tp = 0\n",
    "tn = 0\n",
    "fp = 0\n",
    "fn = 0\n",
    "\n",
    "cc = 0\n",
    "\n",
    "for r in rows:\n",
    "    key = '%s:%s' % (r[0], r[1])\n",
    "    rel = 'NONE'\n",
    "    if key in ref_map3:\n",
    "        if ref_map3[key] < 0.5:\n",
    "            rel = 'REFINES'\n",
    "        elif ref_map3[key] > 0.5:\n",
    "            rel = 'REFINED_BY'\n",
    "    \n",
    "    #print('%s : %s' % (r[2], rel))\n",
    "    if rel == r[2]:\n",
    "        cc += 1\n",
    "    \n",
    "    if r[2] == 'NONE':\n",
    "        if not key in ref_map3:\n",
    "            tn += 1\n",
    "        else:\n",
    "            fp += 1\n",
    "    else:\n",
    "        if key in ref_map3:\n",
    "            tp += 1\n",
    "        else:\n",
    "            fn += 1\n",
    "\n",
    "print('Accuracy 2: %0.3f' % ((tp + tn) / (tp + tn + fp + fn)))\n",
    "print('Correctness: %i/%i = %0.3f' % (cc, len(rows), cc / len(rows)))"
   ]
  },
  {
   "cell_type": "code",
   "execution_count": 72,
   "id": "ff39987c-f907-4efa-b9ff-1275b5e3b0a9",
   "metadata": {},
   "outputs": [],
   "source": [
    "import csv\n",
    "\n",
    "keyed = [r for r in csv.reader(open('comps_keyed.csv', 'r'))]\n",
    "key_map = {}\n",
    "for r in keyed:\n",
    "    s = [r[1], r[2]]\n",
    "    if r[0] == '0':\n",
    "        s.append('REFINED_BY')\n",
    "    elif r[0] == '1':\n",
    "        s.append('NONE')\n",
    "    elif r[0] == '3':\n",
    "        s.append('SYMMETRIC')\n",
    "    key = '%s:%s' % (r[1], r[2])\n",
    "    key_map[key] = s"
   ]
  },
  {
   "cell_type": "code",
   "execution_count": 73,
   "id": "cbdcef53-c5cc-4fbd-9fdd-2ab546eda421",
   "metadata": {},
   "outputs": [
    {
     "name": "stdout",
     "output_type": "stream",
     "text": [
      "550\n",
      "Missing: 0\n"
     ]
    }
   ],
   "source": [
    "import csv\n",
    "\n",
    "\n",
    "data = [r for r in csv.reader(open('%s/comps_unlabeled.csv' % data_path, 'r'))]\n",
    "print(len(data))\n",
    "\n",
    "missing = 0\n",
    "for r in data:\n",
    "    key = '%s:%s' % (r[0], r[1])\n",
    "    if key in key_map:\n",
    "        s = r[2].split(',')\n",
    "        key_map[key].append(s[-1])\n",
    "    else:\n",
    "        missing += 1\n",
    "print('Missing: %i' % missing)"
   ]
  },
  {
   "cell_type": "code",
   "execution_count": null,
   "id": "2f1c5fb2-114c-41da-a0ef-1d104fabfddb",
   "metadata": {},
   "outputs": [],
   "source": []
  },
  {
   "cell_type": "code",
   "execution_count": 74,
   "id": "035c6aad-4c91-45d5-96f8-b0151396ce07",
   "metadata": {},
   "outputs": [],
   "source": [
    "with open('error_analysis.csv', 'w+') as f:\n",
    "    writer = csv.writer(f)\n",
    "    writer.writerow(['G1', 'G2', 'model', 'human'])\n",
    "    writer.writerows(key_map.values())"
   ]
  },
  {
   "cell_type": "code",
   "execution_count": null,
   "id": "725fe616-a537-4520-9769-3eff22c13985",
   "metadata": {},
   "outputs": [],
   "source": []
  }
 ],
 "metadata": {
  "kernelspec": {
   "display_name": "Python 3 (ipykernel)",
   "language": "python",
   "name": "python3"
  },
  "language_info": {
   "codemirror_mode": {
    "name": "ipython",
    "version": 3
   },
   "file_extension": ".py",
   "mimetype": "text/x-python",
   "name": "python",
   "nbconvert_exporter": "python",
   "pygments_lexer": "ipython3",
   "version": "3.11.11"
  }
 },
 "nbformat": 4,
 "nbformat_minor": 5
}
