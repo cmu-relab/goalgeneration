{
 "cells": [
  {
   "cell_type": "markdown",
   "id": "f82e8f94-e844-4d52-ae45-e474b0541d8a",
   "metadata": {},
   "source": [
    "## Analyze Extracted Goals and Source Goal Phrases\n",
    "\n",
    "This notebook computes statistics from generated goals, including the frequency of goals extracted from interviewer versus stakeholder turns, the number of turns used to extract a goal, etc."
   ]
  },
  {
   "cell_type": "code",
   "execution_count": 2,
   "id": "87ebe493-6b37-45b1-8509-eb30823e4f43",
   "metadata": {},
   "outputs": [],
   "source": [
    "import json\n",
    "\n",
    "data_path = 'data1'\n",
    "\n",
    "results = json.load(open('%s/extracted-moving.json' % data_path, 'r'))\n",
    "data = json.load(open('%s/transcripts.json' % data_path, 'r'))"
   ]
  },
  {
   "cell_type": "code",
   "execution_count": 4,
   "id": "dd7a92f3-20d6-4607-baec-e5fa73c5cd9f",
   "metadata": {},
   "outputs": [
    {
     "name": "stdout",
     "output_type": "stream",
     "text": [
      "excerpt: Interviewer: Sure. So I'm basically trying to understand how users use weather apps. What are they looking for? And just a lot of requirements that they might have. So I'm just gonna start asking you a few questions and. Can you just tell me how things are based on your personal experience? Does that sound good.\n",
      "\n",
      "Stakeholder: Yeah, sounds. Perfect.\n",
      "\n",
      "Interviewer: Awesome. Okay? So for the 1st question, what is the primary purpose you want to achieve when using a weather app.\n",
      "\n",
      "Stakeholder: So for me, primary purpose is a planning. So whenever I use weather app, it's either to plan what I have to wear on a particular day or plan my outdoor activities. or just plan my trip or something.\n",
      "\n",
      "goals: ['Plan what to wear based on weather forecast.', 'Plan outdoor activities based on weather conditions.', 'Plan trips taking into account weather forecasts.']\n",
      "phrases: [{'goal': 'Plan what to wear based on weather forecast.', 'phrases': ['plan what I have to wear on a particular day']}, {'goal': 'Plan outdoor activities based on weather conditions.', 'phrases': ['plan my outdoor activities']}, {'goal': 'Plan trips taking into account weather forecasts.', 'phrases': ['plan my trip']}]\n"
     ]
    }
   ],
   "source": [
    "for k, v in results['10'][2].items():\n",
    "    print('%s: %s' % (k, v))"
   ]
  },
  {
   "cell_type": "code",
   "execution_count": 5,
   "id": "66314d3e-95db-4d3c-9a8d-686978bb6cef",
   "metadata": {},
   "outputs": [],
   "source": [
    "from collections import Counter\n",
    "import re\n",
    "\n",
    "def annotate(excerpt, phrases):\n",
    "    index = []\n",
    "    for p in phrases:\n",
    "        for m in re.finditer(p, excerpt):\n",
    "            index.append([m.start(), '['])\n",
    "            index.append([m.end(), ']'])\n",
    "\n",
    "    \n",
    "    for i, c in sorted(index, key = lambda x:x[0], reverse = True):\n",
    "        excerpt = excerpt[:i] + c + excerpt[i:]\n",
    "    return excerpt\n",
    "\n",
    "def eval_extracted(extracted, counter=Counter(), base_turn=0):\n",
    "    errors = []\n",
    "    review = []\n",
    "    for e in extracted:\n",
    "        for g in e['phrases']:\n",
    "            # if g is not a dict, then model failed to follow format instructions\n",
    "            if not isinstance(g, dict):\n",
    "                counter['type errors'] += 1\n",
    "                continue\n",
    "\n",
    "            # if g is missing phrases key, then model failed to follow format instructions\n",
    "            elif not 'phrases' in g:\n",
    "                counter['type errors'] += 1\n",
    "                continue\n",
    "\n",
    "            # if phrase goal doesn't match original generated goal\n",
    "            if g['goal'] not in e['goals']:\n",
    "                counter['goal mismatch'] += 1\n",
    "\n",
    "            # if phrase list is empty\n",
    "            if len(g['phrases']) == 0:\n",
    "                counter['no phrases'] += 1\n",
    "\n",
    "            # check for phrase match separately for interviewer and stakeholder\n",
    "            i_c_total = 0\n",
    "            s_c_total = 0\n",
    "            i_c = 0\n",
    "            s_c = 0\n",
    "            turn_match = []\n",
    "            for p in g['phrases']:\n",
    "                turns = e['excerpt'].split('\\n\\n')\n",
    "                i_c = 0\n",
    "                s_c = 0\n",
    "                for i, t in enumerate(turns):\n",
    "                    i_p = re.findall(r'Interviewer:\\s(.+)', t)\n",
    "                    s_p = re.findall(r'Stakeholder:\\s(.+)', t)\n",
    "                    \n",
    "                    i_c_t = sum([a.lower().count(p.lower()) for a in i_p])\n",
    "                    s_c_t = sum([a.lower().count(p.lower()) for a in s_p])\n",
    "                    if i_c_t + s_c_t > 0:\n",
    "                        turn_match.append(base_turn + i)\n",
    "\n",
    "                    i_c += i_c_t\n",
    "                    s_c += s_c_t\n",
    "\n",
    "                # if not match between interviewer and stakeholder\n",
    "                if i_c + s_c == 0:\n",
    "                    counter['unmatched phrase'] += 1\n",
    "                    errors.append({'excerpt': e['excerpt'], 'phrase': p, 'goal': g['goal']})\n",
    "\n",
    "                # if only one match between interviewer and stakeholder\n",
    "                if i_c + s_c == 1:\n",
    "                    counter['unique phrases'] += 1\n",
    "                \n",
    "                # count speaker role from which matches were found\n",
    "                counter['from interviewer'] += i_c\n",
    "                i_c_total += i_c\n",
    "                s_c_total += s_c\n",
    "                counter['from stakeholder'] += s_c\n",
    "                counter['total phrases'] += 1\n",
    "                \n",
    "            # if interviewer and stakeholder matched for one goal, then count multi-turn goal\n",
    "            multi = 'N'\n",
    "            counter['interviewer goal'] += 1 if i_c > 0 else 0\n",
    "            counter['stakeholder goal'] += 1 if s_c > 0 else 0\n",
    "            if i_c_total > 0 and s_c_total > 0:\n",
    "                counter['multi-turn goal'] += 1\n",
    "                multi = 'Y'\n",
    "            if i_c_total + s_c_total > 0:\n",
    "                review.append({'index': len(review), 'goal': g['goal'], 'excerpt': annotate(e['excerpt'], g['phrases']), 's_match': s_c_total, 'i_match': i_c_total, 'turn_match': turn_match, 'multiturn': multi})\n",
    "    return counter, errors, review"
   ]
  },
  {
   "cell_type": "code",
   "execution_count": 10,
   "id": "8f664852-05ef-4654-b12e-a79d88c992fe",
   "metadata": {},
   "outputs": [
    {
     "name": "stdout",
     "output_type": "stream",
     "text": [
      "0\t243\n",
      "1\t577\n",
      "2\t701\n",
      "3\t614\n",
      "4\t660\n",
      "5\t530\n",
      "6\t601\n",
      "7\t586\n",
      "8\t451\n",
      "9\t256\n"
     ]
    }
   ],
   "source": [
    "from collections import Counter\n",
    "import csv, math\n",
    "\n",
    "goals = {}\n",
    "global_count = Counter()\n",
    "counters = []\n",
    "match_dist = Counter()\n",
    "i = 0\n",
    "for transcript, (key, result) in zip(data['transcript'], results.items()):\n",
    "    goals[key] = []\n",
    "    \n",
    "    for j in range(len(result)):\n",
    "        counter, errors, review = eval_extracted([result[j]], Counter(), base_turn = j * 2)\n",
    "        counter['total turns'] = len(transcript)\n",
    "        counters.append(counter)\n",
    "        \n",
    "        for k, c in counter.items():\n",
    "            global_count[k] += c\n",
    "    \n",
    "        with open('%s/cache/%s.%i-generated-goals.csv' % (data_path, i, j), 'w') as f:\n",
    "            writer = csv.DictWriter(f, fieldnames=['index', 'excerpt', 'goal', 'i_match', 's_match', 'turn_match', 'multiturn'])\n",
    "            writer.writeheader()\n",
    "            writer.writerows(review)\n",
    "    \n",
    "        # record population data for evaluating the prompt\n",
    "        goals[key].append([])\n",
    "        for r in review:\n",
    "            goals[key][j].append(r['goal'])\n",
    "            \n",
    "            for m in r['turn_match']:\n",
    "                norm_m = math.floor(10 * m / counter['total turns'])\n",
    "                match_dist[norm_m] += 1\n",
    "\n",
    "# how does the distribution compare to 'lost in the middle'?\n",
    "for i in sorted(match_dist.keys()):\n",
    "    print('%i\\t%i' % (i, match_dist[i]))"
   ]
  },
  {
   "cell_type": "code",
   "execution_count": 11,
   "id": "37a1dc2c-0468-4a59-8b2c-0ffede4be726",
   "metadata": {},
   "outputs": [],
   "source": [
    "fieldnames = set([k for c in counters for k in c.keys()])\n",
    "with open('%s/statistics.csv' % data_path, 'w') as f:\n",
    "    writer = csv.DictWriter(f, fieldnames=fieldnames)\n",
    "    writer.writeheader()\n",
    "    writer.writerows(counters)"
   ]
  },
  {
   "cell_type": "code",
   "execution_count": 12,
   "id": "2a6b975d-165b-4f8d-a702-c7d24a4efdeb",
   "metadata": {},
   "outputs": [],
   "source": [
    "json.dump(goals, open('%s/extracted-goals.json' % data_path, 'w'))"
   ]
  },
  {
   "cell_type": "code",
   "execution_count": 13,
   "id": "b1346343-9d44-4473-ab03-a50cf5d765e1",
   "metadata": {},
   "outputs": [
    {
     "name": "stdout",
     "output_type": "stream",
     "text": [
      "Counter({'total turns': 133084, 'total phrases': 5544, 'unique phrases': 5179, 'from stakeholder': 4987, 'stakeholder goal': 2762, 'unmatched phrase': 334, 'type errors': 268, 'from interviewer': 258, 'interviewer goal': 125, 'multi-turn goal': 88})\n"
     ]
    }
   ],
   "source": [
    "print(global_count)"
   ]
  },
  {
   "cell_type": "code",
   "execution_count": null,
   "id": "04fd243e-bb41-425e-9f76-93bbffbd3b68",
   "metadata": {},
   "outputs": [],
   "source": []
  }
 ],
 "metadata": {
  "kernelspec": {
   "display_name": "Python 3 (ipykernel)",
   "language": "python",
   "name": "python3"
  },
  "language_info": {
   "codemirror_mode": {
    "name": "ipython",
    "version": 3
   },
   "file_extension": ".py",
   "mimetype": "text/x-python",
   "name": "python",
   "nbconvert_exporter": "python",
   "pygments_lexer": "ipython3",
   "version": "3.11.11"
  }
 },
 "nbformat": 4,
 "nbformat_minor": 5
}
