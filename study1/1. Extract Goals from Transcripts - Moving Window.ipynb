{
 "cells": [
  {
   "cell_type": "markdown",
   "id": "72403443-262d-4925-b1f8-bfd23aa3a515",
   "metadata": {},
   "source": [
    "# Extract Goals from Transcripts - Moving Window\n",
    "\n",
    "This notebook proceeds to extract goals from interview transcripts in two stages: (1) generate goals from a moving window over the transcript; (2) trace generated goals back to the source text in the transcript."
   ]
  },
  {
   "cell_type": "code",
   "execution_count": 3,
   "id": "c682cf82-6bd3-4c59-96c3-709804406312",
   "metadata": {},
   "outputs": [],
   "source": [
    "from openai import OpenAI\n",
    "\n",
    "client = OpenAI()\n",
    "\n",
    "def prompt_model(prompt):\n",
    "    response = client.chat.completions.create(\n",
    "      model=\"gpt-4o-2024-08-06\",\n",
    "      messages=[\n",
    "        {\n",
    "          \"role\": \"system\",\n",
    "          \"content\": \"You are a business analyst collecting requirements for a software application. Your job is to review interview transcripts between an interviewer who is a business analyst and a stakeholder who is a prospective user of the application. The interviewer will ask the stakeholder questions to identify their requirements for the application.\"\n",
    "        },\n",
    "        {\n",
    "          \"role\": \"user\",\n",
    "          \"content\": prompt\n",
    "        }\n",
    "      ]\n",
    "    )\n",
    "    return response.choices[0].message.content"
   ]
  },
  {
   "cell_type": "code",
   "execution_count": 4,
   "id": "e3722b62-74e5-4251-85c3-cf59cc271651",
   "metadata": {},
   "outputs": [
    {
     "name": "stdout",
     "output_type": "stream",
     "text": [
      "Read 34 transcripts\n"
     ]
    }
   ],
   "source": [
    "import json\n",
    "\n",
    "data_path = 'data1'\n",
    "\n",
    "data = json.load(open('%s/transcripts.json' % data_path, 'r'))\n",
    "print('Read %i transcripts' % len(data['transcript']))"
   ]
  },
  {
   "cell_type": "code",
   "execution_count": 5,
   "id": "4fb3b13e-8b7a-4868-a275-c177cacf6d32",
   "metadata": {},
   "outputs": [
    {
     "name": "stdout",
     "output_type": "stream",
     "text": [
      "Extracting goals from transcript 0 with 84 turns . . . . . . . . . . . . . . . . . . . . . . . . . . . . . . . . . . . . . . . . . . .done!\n",
      " . . . . . . . . . . . . . . . . . . . . . . . . .done!\n",
      " . . . . . . . . . . . . . .done!2 with 27 turns .\n",
      " . . . . . . . . . . . . . . . . . . . . . . . . . . . . . . . . . . . . . . . . . . . . . . . . . . . . . . . . . . . . . . . . . . . . . . . . . . . . . . . . . . . . . . . . . . . . . . . .done!\n",
      " . . . . . . . . . . . . . . . . . . . . . . . . . . . . . . . . . . . . . . . . . . . . . . . . . . . .done!\n",
      " . . . . . . . . . . . . . . . . . . . . . . . . . . . . . . . . . . .done!\n",
      " . . . . . . . . . . . . . . . . . . . . . . . . . . . . . . . . . . . . . . . . . . . . . . . . . . . . . . . .done!\n",
      " . . . . . . . . . . . . . . . . . . . . . . . . . . . . . .done!\n",
      " . . . . . . . . . . . . . . . . . . . . . . . . . . . . . . . . . . . . . . . . . . . . . . . . . . . . . . . .done!\n",
      " . . . . . . . . . . . . . . . . . . . . . . . . . . . . . . . . . . . . . . . . . . .done!\n",
      " . . . . . . . . . . . . . . . . . . . . . . . . . . . .done!\n",
      " . . . . . . . . . . . . . . . . . . . . . . . . . . . . . . . . . . . . . . . . . . . . . . . . . . . . . . . . . . .done!\n",
      " . . . . . . . . . . . . . . . . . . . . . . .done!\n",
      " . . . . . . . . . . . . . . . . . . . . . . . . . . . . . . . . . . .done!\n",
      " . . . . . . . . . . . . . . . . . . . . . . . . . . . . . . . . . . . . . . . . . . . . . . . . . . . . . . . . .done!\n",
      " . . . . . . . . . . . . . . . . . . . . . . . . . . . . . . . . . . . . . . .done!\n",
      " . . . . . . . . . . . . . . . . . . . . . . . . . . . . . . . . .done!\n",
      " . . . . . . . . . . . . . . . . . . . . . . . .done!\n",
      " . . . . . . . . . . . . . . . . . . . . . . . . . . . . . . . . . . . . . . . . . . . . . . . . .done!\n",
      " . . . . . . . . . . . . . . . . . . . . . . . . . . . . . . . . . . . . . . .done!\n",
      " . . . . . . . . . . . . . . . . . . . . . . . . . . . . . . . . . . . . . . .done!\n",
      " . . . . . . . . . . . . . . . . .done!h 33 turns .\n",
      " . . . . . . . . . . . . . . . . . . . . . . .done!\n",
      " . . . . . . . . . . . . . . . . . .done!36 turns .\n",
      " . . . . . . . . . .done!nscript 24 with 19 turns .\n",
      " . . . . . . . . . . . . . . . . . . . . . . . . . . . . . . . . . .done!\n",
      " . . . . . . . . . . . . . . . . . . . . . . . . . . . . . .done!\n",
      " . . . . . . . . . . . . . . . . . . . . . . . . . . . . . . . . . . . . . . . . . . . . . . . . . . . . . . . . . . . . . . . . . . . . . . . . . . . . . . . . . .done!\n",
      " . . . . . . . . . . . . . . . . . . . . . . . . . . . . . . . . . . . . . . . . . . . . . . . . . . . . . . . . . . . . . . . . . . . . . . .done!\n",
      " . . . . . . . . . . . . . . . . . . . . . . . . .done!\n",
      " . . . . . . . . . . . . . . . . . . . . . . . . . . . . . . . . . . . . . . . . . . . . . . . . . . . . . . . . . .done!\n",
      " . . . . . . . . . . . . . . . . . . . . . . . . . . . . . . . . . . . . . .done!\n",
      " . . . . . . . . . . . . . . . . . . . . . . . . . . . . . . . . . . . . . . . . . . . . . . . . . . . . . . . . . . .done!\n",
      " . . . . . . . . . . . . . .done!33 with 27 turns .\n"
     ]
    }
   ],
   "source": [
    "# Each goal should be written in the format of VERB[STATE] where VERB is one of Achieve, Maintain or Avoid, and STATE describes a system state to be achieved, maintained or avoided. \n",
    "\n",
    "prompt1 = \"\"\"Read the following interview transcript excerpt and respond with any goals that the speaker expresses. A goal describes a prescriptive statement of intent that the system should satisfy through the cooperating of its agents. Do not include references to applications, products or services in the goal statement. Only write goals that can be traced to specific phrases in the speech. Respond with the goals in a JSON list of strings.\n",
    "\n",
    "%s\n",
    "\n",
    "Response: \n",
    "\"\"\"\n",
    "\n",
    "prompt2 = \"\"\"Read the following goals in JSON format and identify the substrings in the interview transcript excerpt from which the goals were generated. Respond in JSON using the format {'goal': 'goal statement', 'phrases': ['phrase1', 'phrase2']}\n",
    "\n",
    "%s\n",
    "\n",
    "%s\n",
    "\n",
    "Response: \"\"\"\n",
    "\n",
    "def extract_goals(transcript):\n",
    "    extracted = []\n",
    "    excerpt = '\\n'.join(['%s: %s\\n' % (t['speaker'], t['text']) for t in transcript])\n",
    "    p1 = prompt1 % excerpt\n",
    "    #print(p1)\n",
    "    r1 = prompt_model(p1)\n",
    "    #print(r1)\n",
    "\n",
    "    goals = []\n",
    "    phrases = []\n",
    "    if r1.startswith('```json') and r1.endswith('```'):\n",
    "        goals = json.loads(r1[7:-3])\n",
    "\n",
    "        p2 = prompt2 % (r1[7:-3], excerpt)\n",
    "        r2 = prompt_model(p2)\n",
    "\n",
    "        if r2.startswith('```json') and r2.endswith('```'):\n",
    "            phrases = json.loads(r2[7:-3])\n",
    "\n",
    "    return {'excerpt': excerpt, 'goals': goals, 'phrases': phrases} \n",
    "\n",
    "results = {}\n",
    "for i in range(len(data['transcript'])):\n",
    "    print('Extracting goals from transcript %i with %i turns' % (i, len(data['transcript'][i])), end='')\n",
    "    \n",
    "    results[data['ids'][i]] = []\n",
    "    for j in range(0, len(data['transcript'][i]), 2):\n",
    "        print(' .', end='')\n",
    "        \n",
    "        e = extract_goals(data['transcript'][i][j:j+4])  # moving window\n",
    "        results[data['ids'][i]].append(e)\n",
    "    print(' .done!')"
   ]
  },
  {
   "cell_type": "code",
   "execution_count": 9,
   "id": "021043c7-9517-4081-a7bd-e97cafeaebfe",
   "metadata": {},
   "outputs": [
    {
     "name": "stdout",
     "output_type": "stream",
     "text": [
      "['Help prepare for university applications by achieving a good contest score.', 'Use platforms to practice coding questions for job interviews.', 'Discuss difficult coding questions with friends easily.', 'Find more explained solutions with detailed descriptions and examples for coding problems.']\n",
      "['Easily identify and refer to specific coding problems for discussion with others.', 'Access detailed explanations and walkthroughs for coding solutions.', 'Quickly practice specific coding questions for interview preparation.']\n",
      "['Practice specific question numbers to prepare for interviews.', 'Send question numbers to friends for easy reference.', 'Receive question numbers from friends to easily locate specific questions.', 'Practice categorized and concise list of questions beneficial for job interviews.', 'Discover and learn new algorithms.', 'Explore a variety of different questions.']\n",
      "['Practice coding skills to improve performance in job interviews.', 'Discover a variety of different questions to learn new algorithms.', 'Enhance coding skills to be beneficial in daily work as a student.', 'Improve coding skills to be beneficial in professional work after acquiring a job.']\n",
      "['Get a job', 'Improve coding skills for academic and professional work', 'Finish practicing all array questions in a specified category']\n",
      "['Finish all questions in a specific question category.', 'Complete 10 coding questions in a day if conditions are favorable.', 'Do 2 coding questions for a refresher to maintain mental acuity.']\n",
      "['Maintain daily practice sessions when preparing for upcoming interviews.', 'Allocate a significant amount of uninterrupted time for practice sessions.', 'Ensure practice sessions are conducted without any distractions.', 'Include a mix of easy to medium level questions to refresh skills.', 'Practice patiently to enhance effectiveness and brain function.']\n",
      "['Allocate a significant chunk of time within a day to practice coding questions without distractions.', 'Practice coding questions daily when an interview is approaching to prepare better.', 'Spend appropriate time on each coding question depending on its difficulty and personal experience.', 'Review solutions for difficult questions to understand the correct approach and comprehend them.', 'Revisit previously practiced questions to ensure retention and understanding.']\n",
      "['Categorize coding questions by difficulty levels such as easy, medium, and hard.', 'Allocate a specific amount of time to attempt coding questions based on their difficulty level.', 'Practice medium and hard coding questions within a target timeframe of 20 to 40 minutes.', 'Spend additional practice time on categories of questions that exceed the recommended completion time.', \"Understand solutions of questions that can't be solved independently by reviewing solutions and reattempting.\", 'Review and comprehend solutions for questions that are difficult to solve.', 'Revisit previously solved questions to ensure retention of the solution approach.']\n",
      "['Categorize coding questions by difficulty levels of easy, medium, and hard.', 'Use difficulty levels to estimate the time required to complete each question.', 'Target a time frame of 20 to 40 minutes for practicing medium and hard questions.', 'Allocate around 10 minutes for solving easy questions.', 'Practice more on categories of questions if it takes more time than the recommended time.']\n",
      "['Categorize coding problems for targeted practice.', 'Categorize questions based on difficulty to match user mood and mental readiness.', 'Link similar questions for continuous practice within the same category.']\n",
      "['Categorize coding problems by topic so users can focus on areas they are not familiar with.', \"Categorize questions based on difficulty to match the user's current mood or mental readiness.\", 'Link similar questions under each question to facilitate continuous practice within the same category.', 'Allow users to filter and select problems based on their completion status, such as those without a check mark for incomplete questions.', 'Provide a panel for problem description including constraints and test cases.', 'Offer a coding editor for users to input their solutions.', 'Enable customization of test cases for user-submitted code.', 'Allow submission of code to check if it passes provided test cases.', \"Display a comparison of user's solution performance with that of others.\"]\n",
      "['Enable selection of problems based on categories and completion status', 'Provide a question window with problem description, constraints, and test cases', 'Allow custom test cases before submitting solutions', 'Permit quick resubmission of code after minor edits without delay', 'Ensure consistent performance results for the same code over time']\n",
      "['Allow quick successive submissions after minor code changes.', 'Provide accurate performance evaluation of submitted code.', 'Reflect the true quality of the code through performance metrics.', 'Support timing user problem-solving to evaluate progress.']\n",
      "['Measure the time taken to solve a problem.', 'Add more initial test cases to problems.', 'Allow users to add custom test cases to existing ones.', 'Provide an estimated time required to solve a question based on community feedback.', 'Display the estimated time for each question to guide solving strategies.']\n",
      "['Add more test cases for comprehensive coverage from the start.', 'Allow users to add custom test cases to existing ones.', 'Provide an estimated completion time for each question.', 'Display recommended times for solving each question type.']\n",
      "['Improve coding skills over time by practicing coding questions.', 'Gain confidence for job interviews by tracking completed coding questions.', 'Enhance reading skills by practicing differently worded questions.', 'Evaluate coding skills through participation in weekly contests.']\n",
      "['Enhance reading skills by practicing newly worded questions.', 'Evaluate coding skills using challenging questions from contests.']\n",
      "[]\n",
      "[\"Display user's username on the leaderboard after submitting passing test cases.\", \"Allow users to view leaderboard showing other users' completion times.\"]\n",
      "[\"Allow users to view other participants' progress and completion times in a contest.\", 'Encourage users to start with easier problems and gradually progress to more difficult ones.', 'Promote practice as a means to improve problem-solving skills and understanding of logic.', 'Encourage users to review solutions after spending a significant amount of time on a problem without success.']\n",
      "['Start with easy and medium difficulty questions.', 'Practice regularly to get used to the logic behind questions.', 'Identify optimal ways of solving questions.', 'Review solutions if unable to solve questions after several hours.']\n",
      "[]\n"
     ]
    }
   ],
   "source": [
    "for r in results['30']:\n",
    "    print(r['goals'])"
   ]
  },
  {
   "cell_type": "code",
   "execution_count": 7,
   "id": "e3f89c19-b8d1-4fff-9a0c-818e6e2248c6",
   "metadata": {},
   "outputs": [],
   "source": [
    "json.dump(results, open('%s/extracted-moving.json' % data_path, 'w+')) # moved under data0/extracted-moving.json"
   ]
  },
  {
   "cell_type": "code",
   "execution_count": 8,
   "id": "1b3669de-35ca-4db7-8e72-fe912ee32350",
   "metadata": {},
   "outputs": [
    {
     "name": "stdout",
     "output_type": "stream",
     "text": [
      "dict_keys(['32', '35', '34', '33', '20', '18', '27', '9', '11', '7', '29', '16', '6', '28', '17', '10', '19', '26', '8', '21', '36', '31', '30', '24', '23', '4', '15', '3', '12', '13', '5', '14', '22', '25'])\n"
     ]
    }
   ],
   "source": [
    "print(results.keys())"
   ]
  },
  {
   "cell_type": "code",
   "execution_count": null,
   "id": "f10c44c4-a954-4504-8ae2-353cfb7ab696",
   "metadata": {},
   "outputs": [],
   "source": []
  }
 ],
 "metadata": {
  "kernelspec": {
   "display_name": "Python 3 (ipykernel)",
   "language": "python",
   "name": "python3"
  },
  "language_info": {
   "codemirror_mode": {
    "name": "ipython",
    "version": 3
   },
   "file_extension": ".py",
   "mimetype": "text/x-python",
   "name": "python",
   "nbconvert_exporter": "python",
   "pygments_lexer": "ipython3",
   "version": "3.11.11"
  }
 },
 "nbformat": 4,
 "nbformat_minor": 5
}
