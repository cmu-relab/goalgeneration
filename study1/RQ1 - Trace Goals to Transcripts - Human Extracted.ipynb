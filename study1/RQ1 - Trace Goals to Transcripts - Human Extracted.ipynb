{
 "cells": [
  {
   "cell_type": "markdown",
   "id": "72403443-262d-4925-b1f8-bfd23aa3a515",
   "metadata": {},
   "source": [
    "# Extract Goals from Transcripts\n",
    "\n",
    "**RQ:** Does more or less transcript context improve goal extraction coverage?\n",
    "\n",
    "**RQ:** How does high-temperature sampling affect goal extraction goverage?\n",
    "\n",
    "**RQ:** How do hallucinations affect goal generation?\n"
   ]
  },
  {
   "cell_type": "code",
   "execution_count": 26,
   "id": "c682cf82-6bd3-4c59-96c3-709804406312",
   "metadata": {},
   "outputs": [],
   "source": [
    "from openai import OpenAI\n",
    "\n",
    "client = OpenAI()\n",
    "\n",
    "def prompt_model(prompt):\n",
    "    response = client.chat.completions.create(\n",
    "      model=\"gpt-4o-2024-08-06\",\n",
    "      messages=[\n",
    "        {\n",
    "          \"role\": \"system\",\n",
    "          \"content\": \"You are a business analyst collecting requirements for a software application. Your job is to review interview transcripts between an interviewer who is a business analyst and a stakeholder who is a prospective user of the application. The interviewer will ask the stakeholder questions to identify their requirements for the application.\"\n",
    "        },\n",
    "        {\n",
    "          \"role\": \"user\",\n",
    "          \"content\": prompt\n",
    "        }\n",
    "      ]\n",
    "    )\n",
    "    return response.choices[0].message.content"
   ]
  },
  {
   "cell_type": "code",
   "execution_count": 77,
   "id": "e3722b62-74e5-4251-85c3-cf59cc271651",
   "metadata": {},
   "outputs": [
    {
     "name": "stdout",
     "output_type": "stream",
     "text": [
      "Read 34 transcripts\n"
     ]
    }
   ],
   "source": [
    "import json\n",
    "\n",
    "data_path = 'data1'\n",
    "\n",
    "data = json.load(open('f24-transcript-data.json', 'r'))\n",
    "print('Read %i transcripts' % len(data['transcript']))"
   ]
  },
  {
   "cell_type": "code",
   "execution_count": 84,
   "id": "9149b605-8916-4a51-9b8c-089642f4eccc",
   "metadata": {},
   "outputs": [
    {
     "name": "stdout",
     "output_type": "stream",
     "text": [
      "Goals:\n",
      "* Professional Communication - Primarily, Jacqueline’s email use is for career needs - receiving updates from recruiters, scheduling, and networking. Given this, reliable access to important emails from recruiters is critical.\n",
      "* Staying Updated on Academic Announcements - Another goal is to use email to stay current with university communications, from notifications to updates from platforms like Canvas.\n",
      "* Personal Organization – Other than goals related to school and career, Jacqueline uses email for organizing personal appointments (e.g., medical appointments) and to keep track of offers or discounts from merchants.\n",
      "* Organizing Inbox - She prefers a clutter-free inbox, frequently categorizing, deleting, or tagging emails to streamline her interactions and ensure that critical emails are easy to access.\n",
      "* Efficient Email Composition - Jacqueline values efficiency when composing emails and often relies on an AI assistant to make the process faster and more precise.\n",
      "\n",
      "Actions:\n",
      "* Checking Emails Frequently for Recruiter Messages - Logs in multiple times (more than 5 times) daily to ensure important updates are not missed.\n",
      "* Inbox Scanning and Cleanup - Jacqueline typically scans her inbox, marking emails that need action and deleting irrelevant or spam emails.\n",
      "* Tagging and Flagging - She tags or flags important emails that require future attention or follow-up.\n",
      "* Deleting Non-Essential Emails - Deletes email threads once they’re no longer relevant to keep the inbox clean.\n",
      "* Using Separate Accounts - Jacqueline keeps her professional, academic, and personal emails separate, which helps  in managing different types of communication effectively.\n",
      "* Using AI for Email Composition - Starts by listing her main points, then uses an AI assistant to generate the full message, which she then tweaks and formats as needed (e.g., bolding key points).\n",
      "* Multimedia Management - She prefers uploading files to the cloud and sharing links instead of direct attachments to make sharing easier.\n",
      "* Notifications for Priority Emails - Jacqueline values notifications but does not completely rely on them because of the potential for missing important emails.\n",
      "* Summarization – She performs manual summarization now. But also for future: desires a feature to summarize emails and highlight main points to save time on review.\n",
      "* Managing Categorization – She categorizes communication and finds categorization useful but also frustrating when important emails land in spam.\n",
      "* Monitoring Tasks and Deadlines - Uses flagged emails to manage time-sensitive actions.\n"
     ]
    }
   ],
   "source": [
    "import re\n",
    "\n",
    "goals = []\n",
    "for i in range(len(data['actions'])):\n",
    "    g = []\n",
    "    for line in data['actions'][i].split('\\n'):\n",
    "        if len(line) > 0 and line[0] == '*':\n",
    "            g.append(line[1:].strip())\n",
    "    goals.append(g)\n",
    "\n",
    "    if i == 5:\n",
    "        print(data['actions'][4])"
   ]
  },
  {
   "cell_type": "code",
   "execution_count": null,
   "id": "068b5070-3e6b-4a89-9499-0e4b398de874",
   "metadata": {},
   "outputs": [],
   "source": []
  },
  {
   "cell_type": "code",
   "execution_count": 36,
   "id": "4fb3b13e-8b7a-4868-a275-c177cacf6d32",
   "metadata": {},
   "outputs": [
    {
     "name": "stdout",
     "output_type": "stream",
     "text": [
      "Tracing goals to transcript 0 with 84 turns . . . . . . . . . . . . . . . . . . . . . . . . . . . . . . . . . . . . . . . . . . .done!\n",
      " . . . . . . . . . . . . . . . . . . . . . . . . .done!\n",
      " . . . . . . . . . . . . . .done!h 27 turns .\n",
      " . . . . . . . . . . . . . . . . . . . . . . . . . . . . . . . . . . . . . . . . . . . . . . . . . . . . . . . . . . . . . . . . . . . . . . . . . . . . . . . . . . . . . . . . . . . . . . . .done!\n",
      " . . . . . . . . . . . . . . . . . . . . . . . . . . . . . . . . . . . . . . . . . . . . . . . . . . . .done!\n",
      " . . . . . . . . . . . . . . . . . . . . . . . . . . . . . . . . . . .done!\n",
      " . . . . . . . . . . . . . . . . . . . . . . . . . . . . . . . . . . . . . . . . . . . . . . . . . . . . . . . .done!\n",
      " . . . . . . . . . . . . . . . . . . . . . . . . . . . . . .done!\n",
      " . . . . . . . . . . . . . . . . . . . . . . . . . . . . . . . . . . . . . . . . . . . . . . . . . . . . . . . .done!\n",
      " . . . . . . . . . . . . . . . . . . . . . . . . . . . . . . . . . . . . . . . . . . .done!\n",
      " . . . . . . . . . . . . . . . . . . . . . . . . . . . .done!\n",
      " . . . . . . . . . . . . . . . . . . . . . . . . . . . . . . . . . . . . . . . . . . . . . . . . . . . . . . . . . . .done!\n",
      " . . . . . . . . . . . . . . . . . . . . . . .done!\n",
      " . . . . . . . . . . . . . . . . . . . . . . . . . . . . . . . . . . .done!\n",
      " . . . . . . . . . . . . . . . . . . . . . . . . . . . . . . . . . . . . . . . . . . . . . . . . . . . . . . . . .done!\n",
      " . . . . . . . . . . . . . . . . . . . . . . . . . . . . . . . . . . . . . . .done!\n",
      " . . . . . . . . . . . . . . . . . . . . . . . . . . . . . . . . .done!\n",
      " . . . . . . . . . . . . . . . . . . . . . . . .done!\n",
      " . . . . . . . . . . . . . . . . . . . . . . . . . . . . . . . . . . . . . . . . . . . . . . . . .done!\n",
      " . . . . . . . . . . . . . . . . . . . . . . . . . . . . . . . . . . . . . . .done!\n",
      " . . . . . . . . . . . . . . . . . . . . . . . . . . . . . . . . . . . . . . .done!\n",
      " . . . . . . . . . . . . . . . . .done!turns .\n",
      " . . . . . . . . . . . . . . . . . . . . . . .done!\n",
      " . . . . . . . . . . . . . . . . . .done!rns .\n",
      " . . . . . . . . . .done!pt 24 with 19 turns .\n",
      " . . . . . . . . . . . . . . . . . . . . . . . . . . . . . . . . . .done!\n",
      " . . . . . . . . . . . . . . . . . . . . . . . . . . . . . .done!\n",
      " . . . . . . . . . . . . . . . . . . . . . . . . . . . . . . . . . . . . . . . . . . . . . . . . . . . . . . . . . . . . . . . . . . . . . . . . . . . . . . . . . .done!\n",
      " . . . . . . . . . . . . . . . . . . . . . . . . . . . . . . . . . . . . . . . . . . . . . . . . . . . . . . . . . . . . . . . . . . . . . . .done!\n",
      " . . . . . . . . . . . . . . . . . . . . . . . . .done!\n",
      " . . . . . . . . . . . . . . . . . . . . . . . . . . . . . . . . . . . . . . . . . . . . . . . . . . . . . . . . . .done!\n",
      " . . . . . . . . . . . . . . . . . . . . . . . . . . . . . . . . . . . . . .done!\n",
      " . . . . . . . . . . . . . . . . . . . . . . . . . . . . . . . . . . . . . . . . . . . . . . . . . . . . . . . . . . .done!\n",
      " . . . . . . . . . . . . . .done!th 27 turns .\n"
     ]
    }
   ],
   "source": [
    "prompt2 = \"\"\"Read the following goals in JSON format and identify the substrings in the interview transcript excerpt from which the goals were generated. Respond in JSON using the format {'goal': 'goal statement', 'phrases': ['phrase1', 'phrase2']}\n",
    "\n",
    "%s\n",
    "\n",
    "%s\n",
    "\n",
    "Response: \"\"\"\n",
    "\n",
    "def trace_goals(transcript, goals):\n",
    "    print(' .', end='')\n",
    "    excerpt = '\\n'.join(['%s: %s\\n' % (t['speaker'], t['text']) for t in transcript])\n",
    "\n",
    "    passed = False\n",
    "    failed = 0\n",
    "    while not passed and failed < 3:\n",
    "        phrases = []\n",
    "        p2 = prompt2 % (json.dumps(goals), excerpt)\n",
    "        r2 = prompt_model(p2)\n",
    "    \n",
    "        if r2.startswith('```json') and r2.endswith('```'):\n",
    "            try:\n",
    "                phrases = json.loads(r2[7:-3])\n",
    "                passed = True\n",
    "            except Exception as e:\n",
    "                failed += 1\n",
    "  \n",
    "    return {'excerpt': excerpt, 'goals': goals, 'phrases': phrases} \n",
    "\n",
    "results = {}\n",
    "for i in range(len(data['transcript'])):\n",
    "    d = data['transcript'][i]\n",
    "    g = goals[i]\n",
    "    print('Tracing goals to transcript %i with %i turns' % (i, len(d)), end='')\n",
    "    results[i] = []\n",
    "    for j in range(0, len(d), 2):\n",
    "        e = trace_goals(d[j:j+4], g)\n",
    "        results[i].append(e)\n",
    "    print(' .done!')"
   ]
  },
  {
   "cell_type": "code",
   "execution_count": 38,
   "id": "e3f89c19-b8d1-4fff-9a0c-818e6e2248c6",
   "metadata": {},
   "outputs": [],
   "source": [
    "json.dump(results, open('%s/human-trace.json' % data_path, 'w+'))"
   ]
  },
  {
   "cell_type": "code",
   "execution_count": 39,
   "id": "454d907f-cc3f-4e65-a03c-9fb5a24523fe",
   "metadata": {},
   "outputs": [],
   "source": [
    "results = json.load(open('%s/human-trace.json' % data_path, 'r'))"
   ]
  },
  {
   "cell_type": "markdown",
   "id": "8bf12cb9-bcf4-4458-8e89-9e8a2d470811",
   "metadata": {},
   "source": [
    "## Analyze Extracted Goals and Source Goal Phrases"
   ]
  },
  {
   "cell_type": "code",
   "execution_count": 60,
   "id": "023dc4a2-1366-4299-9901-f508a7f10576",
   "metadata": {},
   "outputs": [],
   "source": [
    "from collections import Counter\n",
    "import re\n",
    "\n",
    "def annotate(excerpt, phrases):\n",
    "    index = []\n",
    "    for p in phrases:\n",
    "        for m in re.finditer(p, excerpt):\n",
    "            index.append([m.start(), '['])\n",
    "            index.append([m.end(), ']'])\n",
    "\n",
    "    \n",
    "    for i, c in sorted(index, key = lambda x:x[0], reverse = True):\n",
    "        excerpt = excerpt[:i] + c + excerpt[i:]\n",
    "    return excerpt\n",
    "\n",
    "def eval_extracted(extracted, counter=Counter(), base_turn=0):\n",
    "    errors = []\n",
    "    review = []\n",
    "    for e in extracted:\n",
    "        for g in e['phrases']:\n",
    "            # if g is not a dict, then model failed to follow format instructions\n",
    "            if not isinstance(g, dict):\n",
    "                counter['type errors'] += 1\n",
    "                continue\n",
    "\n",
    "            # if g is missing phrases key, then model failed to follow format instructions\n",
    "            elif not 'phrases' in g:\n",
    "                counter['type errors'] += 1\n",
    "                continue\n",
    "\n",
    "            # if phrase goal doesn't match original generated goal\n",
    "            if g['goal'] not in e['goals']:\n",
    "                counter['goal mismatch'] += 1\n",
    "\n",
    "            # if phrase list is empty\n",
    "            if len(g['phrases']) == 0:\n",
    "                counter['no phrases'] += 1\n",
    "\n",
    "            # check for phrase match separately for interviewer and stakeholder\n",
    "            i_c_total = 0\n",
    "            s_c_total = 0\n",
    "            i_c = 0\n",
    "            s_c = 0\n",
    "            turn_match = []\n",
    "            for p in g['phrases']:\n",
    "                turns = e['excerpt'].split('\\n\\n')\n",
    "                i_c = 0\n",
    "                s_c = 0\n",
    "                for i, t in enumerate(turns):\n",
    "                    i_p = re.findall(r'Interviewer:\\s(.+)', t)\n",
    "                    s_p = re.findall(r'Stakeholder:\\s(.+)', t)\n",
    "                    \n",
    "                    i_c_t = sum([a.lower().count(p.lower()) for a in i_p])\n",
    "                    s_c_t = sum([a.lower().count(p.lower()) for a in s_p])\n",
    "                    if i_c_t + s_c_t > 0:\n",
    "                        turn_match.append(base_turn + i)\n",
    "\n",
    "                    i_c += i_c_t\n",
    "                    s_c += s_c_t\n",
    "\n",
    "                # if not match between interviewer and stakeholder\n",
    "                if i_c + s_c == 0:\n",
    "                    counter['unmatched phrase'] += 1\n",
    "                    errors.append({'excerpt': e['excerpt'], 'phrase': p, 'goal': g['goal']})\n",
    "\n",
    "                # if only one match between interviewer and stakeholder\n",
    "                if i_c + s_c == 1:\n",
    "                    counter['unique phrases'] += 1\n",
    "                \n",
    "                # count speaker role from which matches were found\n",
    "                counter['from interviewer'] += i_c\n",
    "                i_c_total += i_c\n",
    "                s_c_total += s_c\n",
    "                counter['from stakeholder'] += s_c\n",
    "                counter['total phrases'] += 1\n",
    "                \n",
    "            # if interviewer and stakeholder matched for one goal, then count multi-turn goal\n",
    "            multi = 'N'\n",
    "            counter['interviewer goal'] += 1 if i_c > 0 else 0\n",
    "            counter['stakeholder goal'] += 1 if s_c > 0 else 0\n",
    "            if i_c_total > 0 and s_c_total > 0:\n",
    "                counter['multi-turn goal'] += 1\n",
    "                multi = 'Y'\n",
    "            if i_c_total + s_c_total > 0:\n",
    "                review.append({'index': len(review), 'goal': g['goal'], 'excerpt': annotate(e['excerpt'], g['phrases']), 's_match': s_c_total, 'i_match': i_c_total, 'turn_match': turn_match, 'multiturn': multi})\n",
    "    return counter, errors, review"
   ]
  },
  {
   "cell_type": "code",
   "execution_count": null,
   "id": "4ef568c8-7047-4790-8287-bcec008d1d60",
   "metadata": {},
   "outputs": [],
   "source": []
  },
  {
   "cell_type": "code",
   "execution_count": 71,
   "id": "0cde047e-fb11-4fd6-8fd7-9891a21572cb",
   "metadata": {},
   "outputs": [
    {
     "name": "stdout",
     "output_type": "stream",
     "text": [
      "0\t295\n",
      "1\t634\n",
      "2\t757\n",
      "3\t557\n",
      "4\t579\n",
      "5\t525\n",
      "6\t542\n",
      "7\t493\n",
      "8\t396\n",
      "9\t191\n"
     ]
    }
   ],
   "source": [
    "from collections import Counter\n",
    "import csv, math\n",
    "\n",
    "goals = {}\n",
    "global_count = Counter()\n",
    "counters = []\n",
    "match_dist = Counter()\n",
    "for i, samples in results.items():\n",
    "    goals[i] = []\n",
    "    reviews = []\n",
    "    \n",
    "    for j in range(len(samples)):\n",
    "        counter, errors, review = eval_extracted([samples[j]], Counter(), base_turn = j * 2)\n",
    "        counter['total turns'] = len(data['transcript'][int(i)])\n",
    "        counters.append(counter)\n",
    "        \n",
    "        for k, c in counter.items():\n",
    "            global_count[k] += c\n",
    "\n",
    "        reviews.extend(review)\n",
    "    \n",
    "        # record population data for evaluating the prompt\n",
    "        goals[i].append([])\n",
    "        for r in review:\n",
    "            goals[i][j].append(r['goal'])\n",
    "            \n",
    "            for m in r['turn_match']:\n",
    "                norm_m = math.floor(10 * m / counter['total turns'])\n",
    "                match_dist[norm_m] += 1\n",
    "\n",
    "    with open('human3/%s-generated-goals.csv' % i, 'w+') as f:\n",
    "        writer = csv.DictWriter(f, fieldnames=['index', 'excerpt', 'goal', 'i_match', 's_match', 'turn_match', 'multiturn'])\n",
    "        writer.writeheader()\n",
    "        writer.writerows(reviews)\n",
    "\n",
    "# how does the distribution compare to 'lost in the middle'?\n",
    "for i in sorted(match_dist.keys()):\n",
    "    print('%i\\t%i' % (i, match_dist[i]))"
   ]
  },
  {
   "cell_type": "code",
   "execution_count": 62,
   "id": "fb16285c-b619-4093-9802-f9ba15196c26",
   "metadata": {},
   "outputs": [],
   "source": [
    "fieldnames = set([k for c in counters for k in c.keys()])\n",
    "with open('%s/human-statistics.csv' % data_path, 'w+') as f:\n",
    "    writer = csv.DictWriter(f, fieldnames=fieldnames)\n",
    "    writer.writeheader()\n",
    "    writer.writerows(counters)"
   ]
  },
  {
   "cell_type": "code",
   "execution_count": null,
   "id": "08ffa201-2144-45e1-981f-52df284370ce",
   "metadata": {},
   "outputs": [],
   "source": []
  },
  {
   "cell_type": "code",
   "execution_count": 63,
   "id": "62e21099-6253-4ece-b3d8-5112fe952a2d",
   "metadata": {},
   "outputs": [
    {
     "name": "stdout",
     "output_type": "stream",
     "text": [
      "Counter({'total turns': 133084, 'total phrases': 5952, 'unique phrases': 4927, 'from stakeholder': 4668, 'stakeholder goal': 2327, 'unmatched phrase': 996, 'no phrases': 775, 'from interviewer': 326, 'goal mismatch': 184, 'type errors': 162, 'interviewer goal': 161, 'multi-turn goal': 135})\n"
     ]
    }
   ],
   "source": [
    "print(global_count)"
   ]
  },
  {
   "cell_type": "code",
   "execution_count": 71,
   "id": "1b3669de-35ca-4db7-8e72-fe912ee32350",
   "metadata": {},
   "outputs": [
    {
     "name": "stdout",
     "output_type": "stream",
     "text": [
      "70\n",
      "[70, 78, 27, 46, 70, 75, 19, 56, 50, 114, 116, 33, 163, 46, 84, 50, 27, 191, 104, 111, 59, 111, 86, 118, 65, 48, 98, 77, 36, 67, 60, 142, 118]\n"
     ]
    }
   ],
   "source": [
    "import statistics\n",
    "\n",
    "turn_count = []\n",
    "for i in range(0, len(counters), 10):\n",
    "    turn_count.append(counters[i]['total turns'])\n",
    "print(statistics.median(turn_count))\n",
    "print(turn_count)"
   ]
  },
  {
   "cell_type": "code",
   "execution_count": 45,
   "id": "f10c44c4-a954-4504-8ae2-353cfb7ab696",
   "metadata": {},
   "outputs": [
    {
     "name": "stdout",
     "output_type": "stream",
     "text": [
      "dict_keys(['0', '1', '2', '3', '4', '5', '6', '7', '8', '9', '10', '11', '12', '13', '14', '15', '16', '17', '18', '19', '20', '21', '22', '23', '24', '25', '26', '27', '28', '29', '30', '31', '32', '33'])\n"
     ]
    }
   ],
   "source": [
    "print(goals.keys())"
   ]
  },
  {
   "cell_type": "code",
   "execution_count": 48,
   "id": "559493fc-cca4-410b-b521-2a4a7b7a410d",
   "metadata": {},
   "outputs": [
    {
     "name": "stdout",
     "output_type": "stream",
     "text": [
      "[[], [], [], [], [], [], [], [], [], [], ['Allow users to PIN or bookmark important chats at the top of the chat list.', 'Enable organization of chats based on importance, like family and friends.'], [], [], ['Enable users to search for messages within a chat by clicking a three-dot icon.', 'Allow users to enter search queries to find messages containing specific keywords.', 'Provide functionality to search for images containing specific keywords.'], [], [], [], [], [], [], [], [], ['The application should allow users to search for images using keywords.'], [], [], [], [], [], [], [], [], [], [], [], [], [], [], [], [], [], [], []]\n",
      "[[], [], [], [], [], [], [], [], [], [], ['Allow users to PIN or bookmark important chats at the top of the chat list.', 'Enable organization of chats based on importance, like family and friends.'], [], [], ['Enable users to search for messages within a chat by clicking a three-dot icon.', 'Allow users to enter search queries to find messages containing specific keywords.', 'Provide functionality to search for images containing specific keywords.'], [], [], [], [], [], [], [], [], ['The application should allow users to search for images using keywords.'], [], [], [], [], [], [], [], [], [], [], [], [], [], [], [], [], [], [], []]\n",
      "[[], [], [], [], [], [], [], [], [], [], ['Allow users to PIN or bookmark important chats at the top of the chat list.', 'Enable organization of chats based on importance, like family and friends.'], [], [], ['Enable users to search for messages within a chat by clicking a three-dot icon.', 'Allow users to enter search queries to find messages containing specific keywords.', 'Provide functionality to search for images containing specific keywords.'], [], [], [], [], [], [], [], [], ['The application should allow users to search for images using keywords.'], [], [], [], [], [], [], [], [], [], [], [], [], [], [], [], [], [], [], []]\n",
      "[[], [], [], [], [], [], [], [], [], [], ['Allow users to PIN or bookmark important chats at the top of the chat list.', 'Enable organization of chats based on importance, like family and friends.'], [], [], ['Enable users to search for messages within a chat by clicking a three-dot icon.', 'Allow users to enter search queries to find messages containing specific keywords.', 'Provide functionality to search for images containing specific keywords.'], [], [], [], [], [], [], [], [], ['The application should allow users to search for images using keywords.'], [], [], [], [], [], [], [], [], [], [], [], [], [], [], [], [], [], [], []]\n",
      "[[], [], [], [], [], [], [], [], [], [], ['Allow users to PIN or bookmark important chats at the top of the chat list.', 'Enable organization of chats based on importance, like family and friends.'], [], [], ['Enable users to search for messages within a chat by clicking a three-dot icon.', 'Allow users to enter search queries to find messages containing specific keywords.', 'Provide functionality to search for images containing specific keywords.'], [], [], [], [], [], [], [], [], ['The application should allow users to search for images using keywords.'], [], [], [], [], [], [], [], [], [], [], [], [], [], [], [], [], [], [], []]\n",
      "[[], [], [], [], [], [], [], [], [], [], ['Allow users to PIN or bookmark important chats at the top of the chat list.', 'Enable organization of chats based on importance, like family and friends.'], [], [], ['Enable users to search for messages within a chat by clicking a three-dot icon.', 'Allow users to enter search queries to find messages containing specific keywords.', 'Provide functionality to search for images containing specific keywords.'], [], [], [], [], [], [], [], [], ['The application should allow users to search for images using keywords.'], [], [], [], [], [], [], [], [], [], [], [], [], [], [], [], [], [], [], []]\n",
      "[[], [], [], [], [], [], [], [], [], [], ['Allow users to PIN or bookmark important chats at the top of the chat list.', 'Enable organization of chats based on importance, like family and friends.'], [], [], ['Enable users to search for messages within a chat by clicking a three-dot icon.', 'Allow users to enter search queries to find messages containing specific keywords.', 'Provide functionality to search for images containing specific keywords.'], [], [], [], [], [], [], [], [], ['The application should allow users to search for images using keywords.'], [], [], [], [], [], [], [], [], [], [], [], [], [], [], [], [], [], [], []]\n",
      "[[], [], [], [], [], [], [], [], [], [], ['Allow users to PIN or bookmark important chats at the top of the chat list.', 'Enable organization of chats based on importance, like family and friends.'], [], [], ['Enable users to search for messages within a chat by clicking a three-dot icon.', 'Allow users to enter search queries to find messages containing specific keywords.', 'Provide functionality to search for images containing specific keywords.'], [], [], [], [], [], [], [], [], ['The application should allow users to search for images using keywords.'], [], [], [], [], [], [], [], [], [], [], [], [], [], [], [], [], [], [], []]\n",
      "[[], [], [], [], [], [], [], [], [], [], ['Allow users to PIN or bookmark important chats at the top of the chat list.', 'Enable organization of chats based on importance, like family and friends.'], [], [], ['Enable users to search for messages within a chat by clicking a three-dot icon.', 'Allow users to enter search queries to find messages containing specific keywords.', 'Provide functionality to search for images containing specific keywords.'], [], [], [], [], [], [], [], [], ['The application should allow users to search for images using keywords.'], [], [], [], [], [], [], [], [], [], [], [], [], [], [], [], [], [], [], []]\n",
      "[[], [], [], [], [], [], [], [], [], [], ['Allow users to PIN or bookmark important chats at the top of the chat list.', 'Enable organization of chats based on importance, like family and friends.'], [], [], ['Enable users to search for messages within a chat by clicking a three-dot icon.', 'Allow users to enter search queries to find messages containing specific keywords.', 'Provide functionality to search for images containing specific keywords.'], [], [], [], [], [], [], [], [], ['The application should allow users to search for images using keywords.'], [], [], [], [], [], [], [], [], [], [], [], [], [], [], [], [], [], [], []]\n",
      "[[], [], [], [], [], [], [], [], [], [], ['Allow users to PIN or bookmark important chats at the top of the chat list.', 'Enable organization of chats based on importance, like family and friends.'], [], [], ['Enable users to search for messages within a chat by clicking a three-dot icon.', 'Allow users to enter search queries to find messages containing specific keywords.', 'Provide functionality to search for images containing specific keywords.'], [], [], [], [], [], [], [], [], ['The application should allow users to search for images using keywords.'], [], [], [], [], [], [], [], [], [], [], [], [], [], [], [], [], [], [], []]\n",
      "[[], [], [], [], [], [], [], [], [], [], ['Allow users to PIN or bookmark important chats at the top of the chat list.', 'Enable organization of chats based on importance, like family and friends.'], [], [], ['Enable users to search for messages within a chat by clicking a three-dot icon.', 'Allow users to enter search queries to find messages containing specific keywords.', 'Provide functionality to search for images containing specific keywords.'], [], [], [], [], [], [], [], [], ['The application should allow users to search for images using keywords.'], [], [], [], [], [], [], [], [], [], [], [], [], [], [], [], [], [], [], []]\n",
      "[[], [], [], [], [], [], [], [], [], [], ['Allow users to PIN or bookmark important chats at the top of the chat list.', 'Enable organization of chats based on importance, like family and friends.'], [], [], ['Enable users to search for messages within a chat by clicking a three-dot icon.', 'Allow users to enter search queries to find messages containing specific keywords.', 'Provide functionality to search for images containing specific keywords.'], [], [], [], [], [], [], [], [], ['The application should allow users to search for images using keywords.'], [], [], [], [], [], [], [], [], [], [], [], [], [], [], [], [], [], [], []]\n",
      "[[], [], [], [], [], [], [], [], [], [], ['Allow users to PIN or bookmark important chats at the top of the chat list.', 'Enable organization of chats based on importance, like family and friends.'], [], [], ['Enable users to search for messages within a chat by clicking a three-dot icon.', 'Allow users to enter search queries to find messages containing specific keywords.', 'Provide functionality to search for images containing specific keywords.'], [], [], [], [], [], [], [], [], ['The application should allow users to search for images using keywords.'], [], [], [], [], [], [], [], [], [], [], [], [], [], [], [], [], [], [], []]\n",
      "[[], [], [], [], [], [], [], [], [], [], ['Allow users to PIN or bookmark important chats at the top of the chat list.', 'Enable organization of chats based on importance, like family and friends.'], [], [], ['Enable users to search for messages within a chat by clicking a three-dot icon.', 'Allow users to enter search queries to find messages containing specific keywords.', 'Provide functionality to search for images containing specific keywords.'], [], [], [], [], [], [], [], [], ['The application should allow users to search for images using keywords.'], [], [], [], [], [], [], [], [], [], [], [], [], [], [], [], [], [], [], []]\n",
      "[[], [], [], [], [], [], [], [], [], [], ['Allow users to PIN or bookmark important chats at the top of the chat list.', 'Enable organization of chats based on importance, like family and friends.'], [], [], ['Enable users to search for messages within a chat by clicking a three-dot icon.', 'Allow users to enter search queries to find messages containing specific keywords.', 'Provide functionality to search for images containing specific keywords.'], [], [], [], [], [], [], [], [], ['The application should allow users to search for images using keywords.'], [], [], [], [], [], [], [], [], [], [], [], [], [], [], [], [], [], [], []]\n",
      "[[], [], [], [], [], [], [], [], [], [], ['Allow users to PIN or bookmark important chats at the top of the chat list.', 'Enable organization of chats based on importance, like family and friends.'], [], [], ['Enable users to search for messages within a chat by clicking a three-dot icon.', 'Allow users to enter search queries to find messages containing specific keywords.', 'Provide functionality to search for images containing specific keywords.'], [], [], [], [], [], [], [], [], ['The application should allow users to search for images using keywords.'], [], [], [], [], [], [], [], [], [], [], [], [], [], [], [], [], [], [], []]\n",
      "[[], [], [], [], [], [], [], [], [], [], ['Allow users to PIN or bookmark important chats at the top of the chat list.', 'Enable organization of chats based on importance, like family and friends.'], [], [], ['Enable users to search for messages within a chat by clicking a three-dot icon.', 'Allow users to enter search queries to find messages containing specific keywords.', 'Provide functionality to search for images containing specific keywords.'], [], [], [], [], [], [], [], [], ['The application should allow users to search for images using keywords.'], [], [], [], [], [], [], [], [], [], [], [], [], [], [], [], [], [], [], []]\n",
      "[[], [], [], [], [], [], [], [], [], [], ['Allow users to PIN or bookmark important chats at the top of the chat list.', 'Enable organization of chats based on importance, like family and friends.'], [], [], ['Enable users to search for messages within a chat by clicking a three-dot icon.', 'Allow users to enter search queries to find messages containing specific keywords.', 'Provide functionality to search for images containing specific keywords.'], [], [], [], [], [], [], [], [], ['The application should allow users to search for images using keywords.'], [], [], [], [], [], [], [], [], [], [], [], [], [], [], [], [], [], [], []]\n",
      "[[], [], [], [], [], [], [], [], [], [], ['Allow users to PIN or bookmark important chats at the top of the chat list.', 'Enable organization of chats based on importance, like family and friends.'], [], [], ['Enable users to search for messages within a chat by clicking a three-dot icon.', 'Allow users to enter search queries to find messages containing specific keywords.', 'Provide functionality to search for images containing specific keywords.'], [], [], [], [], [], [], [], [], ['The application should allow users to search for images using keywords.'], [], [], [], [], [], [], [], [], [], [], [], [], [], [], [], [], [], [], []]\n",
      "[[], [], [], [], [], [], [], [], [], [], ['Allow users to PIN or bookmark important chats at the top of the chat list.', 'Enable organization of chats based on importance, like family and friends.'], [], [], ['Enable users to search for messages within a chat by clicking a three-dot icon.', 'Allow users to enter search queries to find messages containing specific keywords.', 'Provide functionality to search for images containing specific keywords.'], [], [], [], [], [], [], [], [], ['The application should allow users to search for images using keywords.'], [], [], [], [], [], [], [], [], [], [], [], [], [], [], [], [], [], [], []]\n",
      "[[], [], [], [], [], [], [], [], [], [], ['Allow users to PIN or bookmark important chats at the top of the chat list.', 'Enable organization of chats based on importance, like family and friends.'], [], [], ['Enable users to search for messages within a chat by clicking a three-dot icon.', 'Allow users to enter search queries to find messages containing specific keywords.', 'Provide functionality to search for images containing specific keywords.'], [], [], [], [], [], [], [], [], ['The application should allow users to search for images using keywords.'], [], [], [], [], [], [], [], [], [], [], [], [], [], [], [], [], [], [], []]\n",
      "[[], [], [], [], [], [], [], [], [], [], ['Allow users to PIN or bookmark important chats at the top of the chat list.', 'Enable organization of chats based on importance, like family and friends.'], [], [], ['Enable users to search for messages within a chat by clicking a three-dot icon.', 'Allow users to enter search queries to find messages containing specific keywords.', 'Provide functionality to search for images containing specific keywords.'], [], [], [], [], [], [], [], [], ['The application should allow users to search for images using keywords.'], [], [], [], [], [], [], [], [], [], [], [], [], [], [], [], [], [], [], []]\n",
      "[[], [], [], [], [], [], [], [], [], [], ['Allow users to PIN or bookmark important chats at the top of the chat list.', 'Enable organization of chats based on importance, like family and friends.'], [], [], ['Enable users to search for messages within a chat by clicking a three-dot icon.', 'Allow users to enter search queries to find messages containing specific keywords.', 'Provide functionality to search for images containing specific keywords.'], [], [], [], [], [], [], [], [], ['The application should allow users to search for images using keywords.'], [], [], [], [], [], [], [], [], [], [], [], [], [], [], [], [], [], [], []]\n",
      "[[], [], [], [], [], [], [], [], [], [], ['Allow users to PIN or bookmark important chats at the top of the chat list.', 'Enable organization of chats based on importance, like family and friends.'], [], [], ['Enable users to search for messages within a chat by clicking a three-dot icon.', 'Allow users to enter search queries to find messages containing specific keywords.', 'Provide functionality to search for images containing specific keywords.'], [], [], [], [], [], [], [], [], ['The application should allow users to search for images using keywords.'], [], [], [], [], [], [], [], [], [], [], [], [], [], [], [], [], [], [], []]\n",
      "[[], [], [], [], [], [], [], [], [], [], ['Allow users to PIN or bookmark important chats at the top of the chat list.', 'Enable organization of chats based on importance, like family and friends.'], [], [], ['Enable users to search for messages within a chat by clicking a three-dot icon.', 'Allow users to enter search queries to find messages containing specific keywords.', 'Provide functionality to search for images containing specific keywords.'], [], [], [], [], [], [], [], [], ['The application should allow users to search for images using keywords.'], [], [], [], [], [], [], [], [], [], [], [], [], [], [], [], [], [], [], []]\n",
      "[[], [], [], [], [], [], [], [], [], [], ['Allow users to PIN or bookmark important chats at the top of the chat list.', 'Enable organization of chats based on importance, like family and friends.'], [], [], ['Enable users to search for messages within a chat by clicking a three-dot icon.', 'Allow users to enter search queries to find messages containing specific keywords.', 'Provide functionality to search for images containing specific keywords.'], [], [], [], [], [], [], [], [], ['The application should allow users to search for images using keywords.'], [], [], [], [], [], [], [], [], [], [], [], [], [], [], [], [], [], [], []]\n",
      "[[], [], [], [], [], [], [], [], [], [], ['Allow users to PIN or bookmark important chats at the top of the chat list.', 'Enable organization of chats based on importance, like family and friends.'], [], [], ['Enable users to search for messages within a chat by clicking a three-dot icon.', 'Allow users to enter search queries to find messages containing specific keywords.', 'Provide functionality to search for images containing specific keywords.'], [], [], [], [], [], [], [], [], ['The application should allow users to search for images using keywords.'], [], [], [], [], [], [], [], [], [], [], [], [], [], [], [], [], [], [], []]\n",
      "[[], [], [], [], [], [], [], [], [], [], ['Allow users to PIN or bookmark important chats at the top of the chat list.', 'Enable organization of chats based on importance, like family and friends.'], [], [], ['Enable users to search for messages within a chat by clicking a three-dot icon.', 'Allow users to enter search queries to find messages containing specific keywords.', 'Provide functionality to search for images containing specific keywords.'], [], [], [], [], [], [], [], [], ['The application should allow users to search for images using keywords.'], [], [], [], [], [], [], [], [], [], [], [], [], [], [], [], [], [], [], []]\n",
      "[[], [], [], [], [], [], [], [], [], [], ['Allow users to PIN or bookmark important chats at the top of the chat list.', 'Enable organization of chats based on importance, like family and friends.'], [], [], ['Enable users to search for messages within a chat by clicking a three-dot icon.', 'Allow users to enter search queries to find messages containing specific keywords.', 'Provide functionality to search for images containing specific keywords.'], [], [], [], [], [], [], [], [], ['The application should allow users to search for images using keywords.'], [], [], [], [], [], [], [], [], [], [], [], [], [], [], [], [], [], [], []]\n",
      "[[], [], [], [], [], [], [], [], [], [], ['Allow users to PIN or bookmark important chats at the top of the chat list.', 'Enable organization of chats based on importance, like family and friends.'], [], [], ['Enable users to search for messages within a chat by clicking a three-dot icon.', 'Allow users to enter search queries to find messages containing specific keywords.', 'Provide functionality to search for images containing specific keywords.'], [], [], [], [], [], [], [], [], ['The application should allow users to search for images using keywords.'], [], [], [], [], [], [], [], [], [], [], [], [], [], [], [], [], [], [], []]\n",
      "[[], [], [], [], [], [], [], [], [], [], ['Allow users to PIN or bookmark important chats at the top of the chat list.', 'Enable organization of chats based on importance, like family and friends.'], [], [], ['Enable users to search for messages within a chat by clicking a three-dot icon.', 'Allow users to enter search queries to find messages containing specific keywords.', 'Provide functionality to search for images containing specific keywords.'], [], [], [], [], [], [], [], [], ['The application should allow users to search for images using keywords.'], [], [], [], [], [], [], [], [], [], [], [], [], [], [], [], [], [], [], []]\n",
      "[[], [], [], [], [], [], [], [], [], [], ['Allow users to PIN or bookmark important chats at the top of the chat list.', 'Enable organization of chats based on importance, like family and friends.'], [], [], ['Enable users to search for messages within a chat by clicking a three-dot icon.', 'Allow users to enter search queries to find messages containing specific keywords.', 'Provide functionality to search for images containing specific keywords.'], [], [], [], [], [], [], [], [], ['The application should allow users to search for images using keywords.'], [], [], [], [], [], [], [], [], [], [], [], [], [], [], [], [], [], [], []]\n",
      "[[], [], [], [], [], [], [], [], [], [], ['Allow users to PIN or bookmark important chats at the top of the chat list.', 'Enable organization of chats based on importance, like family and friends.'], [], [], ['Enable users to search for messages within a chat by clicking a three-dot icon.', 'Allow users to enter search queries to find messages containing specific keywords.', 'Provide functionality to search for images containing specific keywords.'], [], [], [], [], [], [], [], [], ['The application should allow users to search for images using keywords.'], [], [], [], [], [], [], [], [], [], [], [], [], [], [], [], [], [], [], []]\n",
      "[[], [], [], [], [], [], [], [], [], [], ['Allow users to PIN or bookmark important chats at the top of the chat list.', 'Enable organization of chats based on importance, like family and friends.'], [], [], ['Enable users to search for messages within a chat by clicking a three-dot icon.', 'Allow users to enter search queries to find messages containing specific keywords.', 'Provide functionality to search for images containing specific keywords.'], [], [], [], [], [], [], [], [], ['The application should allow users to search for images using keywords.'], [], [], [], [], [], [], [], [], [], [], [], [], [], [], [], [], [], [], []]\n",
      "[[], [], [], [], [], [], [], [], [], [], ['Allow users to PIN or bookmark important chats at the top of the chat list.', 'Enable organization of chats based on importance, like family and friends.'], [], [], ['Enable users to search for messages within a chat by clicking a three-dot icon.', 'Allow users to enter search queries to find messages containing specific keywords.', 'Provide functionality to search for images containing specific keywords.'], [], [], [], [], [], [], [], [], ['The application should allow users to search for images using keywords.'], [], [], [], [], [], [], [], [], [], [], [], [], [], [], [], [], [], [], []]\n",
      "[[], [], [], [], [], [], [], [], [], [], ['Allow users to PIN or bookmark important chats at the top of the chat list.', 'Enable organization of chats based on importance, like family and friends.'], [], [], ['Enable users to search for messages within a chat by clicking a three-dot icon.', 'Allow users to enter search queries to find messages containing specific keywords.', 'Provide functionality to search for images containing specific keywords.'], [], [], [], [], [], [], [], [], ['The application should allow users to search for images using keywords.'], [], [], [], [], [], [], [], [], [], [], [], [], [], [], [], [], [], [], []]\n",
      "[[], [], [], [], [], [], [], [], [], [], ['Allow users to PIN or bookmark important chats at the top of the chat list.', 'Enable organization of chats based on importance, like family and friends.'], [], [], ['Enable users to search for messages within a chat by clicking a three-dot icon.', 'Allow users to enter search queries to find messages containing specific keywords.', 'Provide functionality to search for images containing specific keywords.'], [], [], [], [], [], [], [], [], ['The application should allow users to search for images using keywords.'], [], [], [], [], [], [], [], [], [], [], [], [], [], [], [], [], [], [], []]\n",
      "[[], [], [], [], [], [], [], [], [], [], ['Allow users to PIN or bookmark important chats at the top of the chat list.', 'Enable organization of chats based on importance, like family and friends.'], [], [], ['Enable users to search for messages within a chat by clicking a three-dot icon.', 'Allow users to enter search queries to find messages containing specific keywords.', 'Provide functionality to search for images containing specific keywords.'], [], [], [], [], [], [], [], [], ['The application should allow users to search for images using keywords.'], [], [], [], [], [], [], [], [], [], [], [], [], [], [], [], [], [], [], []]\n",
      "[[], [], [], [], [], [], [], [], [], [], ['Allow users to PIN or bookmark important chats at the top of the chat list.', 'Enable organization of chats based on importance, like family and friends.'], [], [], ['Enable users to search for messages within a chat by clicking a three-dot icon.', 'Allow users to enter search queries to find messages containing specific keywords.', 'Provide functionality to search for images containing specific keywords.'], [], [], [], [], [], [], [], [], ['The application should allow users to search for images using keywords.'], [], [], [], [], [], [], [], [], [], [], [], [], [], [], [], [], [], [], []]\n",
      "[[], [], [], [], [], [], [], [], [], [], ['Allow users to PIN or bookmark important chats at the top of the chat list.', 'Enable organization of chats based on importance, like family and friends.'], [], [], ['Enable users to search for messages within a chat by clicking a three-dot icon.', 'Allow users to enter search queries to find messages containing specific keywords.', 'Provide functionality to search for images containing specific keywords.'], [], [], [], [], [], [], [], [], ['The application should allow users to search for images using keywords.'], [], [], [], [], [], [], [], [], [], [], [], [], [], [], [], [], [], [], []]\n",
      "[[], [], [], [], [], [], [], [], [], [], ['Allow users to PIN or bookmark important chats at the top of the chat list.', 'Enable organization of chats based on importance, like family and friends.'], [], [], ['Enable users to search for messages within a chat by clicking a three-dot icon.', 'Allow users to enter search queries to find messages containing specific keywords.', 'Provide functionality to search for images containing specific keywords.'], [], [], [], [], [], [], [], [], ['The application should allow users to search for images using keywords.'], [], [], [], [], [], [], [], [], [], [], [], [], [], [], [], [], [], [], []]\n"
     ]
    }
   ],
   "source": [
    "for i in goals['0']:\n",
    "    print(goals['0'])"
   ]
  },
  {
   "cell_type": "code",
   "execution_count": null,
   "id": "d6baa4d5-b25f-42c3-8b7d-3d5c76e02c04",
   "metadata": {},
   "outputs": [],
   "source": []
  },
  {
   "cell_type": "code",
   "execution_count": null,
   "id": "e524e386-ebc8-4d29-8370-9fd9f9acacd0",
   "metadata": {},
   "outputs": [],
   "source": []
  },
  {
   "cell_type": "code",
   "execution_count": null,
   "id": "9ccffcf9-2694-491f-b948-4687f2e3da3b",
   "metadata": {},
   "outputs": [],
   "source": []
  },
  {
   "cell_type": "code",
   "execution_count": null,
   "id": "7ce87805-f691-400b-a246-27eb4a94274e",
   "metadata": {},
   "outputs": [],
   "source": []
  },
  {
   "cell_type": "code",
   "execution_count": null,
   "id": "604a36e2-1099-4b8e-aee3-915ed2d95946",
   "metadata": {},
   "outputs": [],
   "source": []
  }
 ],
 "metadata": {
  "kernelspec": {
   "display_name": "Python 3 (ipykernel)",
   "language": "python",
   "name": "python3"
  },
  "language_info": {
   "codemirror_mode": {
    "name": "ipython",
    "version": 3
   },
   "file_extension": ".py",
   "mimetype": "text/x-python",
   "name": "python",
   "nbconvert_exporter": "python",
   "pygments_lexer": "ipython3",
   "version": "3.11.11"
  }
 },
 "nbformat": 4,
 "nbformat_minor": 5
}
